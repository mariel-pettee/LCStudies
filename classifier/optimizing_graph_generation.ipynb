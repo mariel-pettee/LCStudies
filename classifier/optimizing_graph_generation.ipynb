{
 "cells": [
  {
   "cell_type": "markdown",
   "id": "b51a650a-5d8e-4176-bf2f-05a380521420",
   "metadata": {},
   "source": [
    "### Optimizing Ming's graph-generating code for speed"
   ]
  },
  {
   "cell_type": "code",
   "execution_count": 12,
   "id": "837eccd3-9307-4f46-bceb-e9fc540c0d74",
   "metadata": {},
   "outputs": [
    {
     "name": "stdout",
     "output_type": "stream",
     "text": [
      "The autoreload extension is already loaded. To reload it, use:\n",
      "  %reload_ext autoreload\n"
     ]
    }
   ],
   "source": [
    "%load_ext autoreload\n",
    "%autoreload 2"
   ]
  },
  {
   "cell_type": "code",
   "execution_count": 13,
   "id": "7bc0a207-ff9e-41a6-9a75-70224ccadae8",
   "metadata": {},
   "outputs": [],
   "source": [
    "### Generic imports\n",
    "import os\n",
    "import numpy as np\n",
    "import pandas as pd\n",
    "import matplotlib.pyplot as plt\n",
    "from matplotlib.colors import Normalize, LogNorm\n",
    "import scipy\n",
    "import uproot\n",
    "from tqdm import tqdm\n",
    "import functools\n",
    "from glob import glob\n",
    "\n",
    "### ML-related\n",
    "import tensorflow as tf\n",
    "import atlas_mpl_style as ampl\n",
    "from sklearn.neighbors import NearestNeighbors\n",
    "from sklearn.utils import shuffle\n",
    "from sklearn.model_selection import train_test_split\n",
    "from sklearn.metrics import roc_curve, auc\n",
    "import sonnet as snt\n",
    "\n",
    "### GNN-related\n",
    "from graph_nets import blocks\n",
    "from graph_nets import graphs\n",
    "from graph_nets import modules\n",
    "from graph_nets import utils_np\n",
    "from graph_nets import utils_tf\n",
    "import networkx as nx"
   ]
  },
  {
   "cell_type": "code",
   "execution_count": 14,
   "id": "441c06b8-4ff0-412d-96d0-891baa1ae683",
   "metadata": {},
   "outputs": [],
   "source": [
    "# ### GPU Setup\n",
    "# os.environ[\"CUDA_DEVICE_ORDER\"] = \"PCI_BUS_ID\"\n",
    "# os.environ[\"CUDA_VISIBLE_DEVICES\"] = \"3\" # pick a number between 0 & 3\n",
    "# gpus = tf.config.list_physical_devices('GPU') \n",
    "# tf.config.experimental.set_memory_growth(gpus[0], True)"
   ]
  },
  {
   "cell_type": "code",
   "execution_count": 15,
   "id": "746fac36-b33d-4e4a-a57e-bbd96f1da8c5",
   "metadata": {},
   "outputs": [],
   "source": [
    "### Other setup \n",
    "pd.set_option('display.max_columns', 200)\n",
    "pd.set_option('display.max_rows', 20)\n",
    "\n",
    "params = {'legend.fontsize': 13, 'axes.labelsize': 18}\n",
    "plt.rcParams.update(params)\n",
    "\n",
    "SEED = 15\n",
    "np.random.seed(SEED)\n",
    "tf.random.set_seed(SEED)"
   ]
  },
  {
   "cell_type": "markdown",
   "id": "da919e24-c556-48d5-9bf4-8bb56f1f7200",
   "metadata": {},
   "source": [
    "### Load files"
   ]
  },
  {
   "cell_type": "markdown",
   "id": "518006df-d858-4356-926d-47db5858a8d8",
   "metadata": {},
   "source": [
    "First, a sample of single neutral pions:"
   ]
  },
  {
   "cell_type": "code",
   "execution_count": 5,
   "id": "524b9a4e-ef88-46ed-ba1d-0158621b398d",
   "metadata": {},
   "outputs": [],
   "source": [
    "file_path = '../data/neutral_pion_sample.root'\n",
    "f_pi0 = uproot.open(file_path)"
   ]
  },
  {
   "cell_type": "markdown",
   "id": "1509e054-6e5f-420e-822b-7766f1a26ef9",
   "metadata": {},
   "source": [
    "Define the primary DataFrame:"
   ]
  },
  {
   "cell_type": "code",
   "execution_count": 6,
   "id": "777f5407-4682-45d1-aa52-5574b8a72692",
   "metadata": {},
   "outputs": [],
   "source": [
    "df = f_pi0['EventTree'].arrays([\"cluster_cell_E\", \"cluster_cell_ID\", \"cluster_E\", \"cluster_Eta\", \"cluster_Phi\"], library=\"pd\")\n",
    "df.reset_index(inplace=True) # flatten MultiIndexing"
   ]
  },
  {
   "cell_type": "markdown",
   "id": "9c9164ee-d4bb-4035-bdc8-705d3e916f1b",
   "metadata": {},
   "source": [
    "Define the cell geometry DataFrame:"
   ]
  },
  {
   "cell_type": "code",
   "execution_count": 7,
   "id": "02260826-038a-48ec-a51d-ef1e3375ec82",
   "metadata": {},
   "outputs": [],
   "source": [
    "df_geo = f_pi0['CellGeo'].arrays(library=\"pd\")\n",
    "df_geo = df_geo.reset_index() # remove redundant multi-indexing\n",
    "df_geo.drop(columns = [\"entry\", \"subentry\"], inplace=True)\n",
    "\n",
    "### Add x,y,z coordinates\n",
    "df_geo[\"cell_geo_x\"] = df_geo[\"cell_geo_rPerp\"] * np.cos(df_geo[\"cell_geo_phi\"])\n",
    "df_geo[\"cell_geo_y\"] = df_geo[\"cell_geo_rPerp\"] * np.sin(df_geo[\"cell_geo_phi\"])\n",
    "cell_geo_theta = 2*np.arctan(np.exp(-df_geo[\"cell_geo_eta\"]))\n",
    "df_geo[\"cell_geo_z\"] = df_geo[\"cell_geo_rPerp\"] / np.tan(cell_geo_theta)"
   ]
  },
  {
   "cell_type": "markdown",
   "id": "94dd63ba-8279-471f-9710-7b1e0ad7b2f2",
   "metadata": {},
   "source": [
    "#### Define graph-making function"
   ]
  },
  {
   "cell_type": "code",
   "execution_count": 16,
   "id": "7ff78c49-4a5e-4ca5-873c-42fa818fdde1",
   "metadata": {},
   "outputs": [],
   "source": [
    "def make_graph(event: pd.Series, geo_df: pd.DataFrame, is_charged=False):\n",
    "    \"\"\"\n",
    "    Creates a graph representation of an event\n",
    "    \n",
    "    inputs\n",
    "    event (pd.Series) one event/row from EventTree\n",
    "    geo_df (pd.DataFrame) the CellGeo DataFrame mapping cell_geo_ID to information about the cell\n",
    "    is_charged (bool) True for charged pion, False for uncharged pion\n",
    "    \n",
    "    returns\n",
    "    A pair of graph representations of the event for the GNN (train_graph, target_graph)\n",
    "    returns (None, None) if no cell energies detected\n",
    "    \"\"\"\n",
    "    \n",
    "    ### No cell energies present\n",
    "    if len(event[\"cluster_cell_E\"]) == 0:\n",
    "        return None, None\n",
    "    \n",
    "    ### Get cell geometry information for this particular event\n",
    "    temp_df = geo_df[geo_df[\"cell_geo_ID\"].isin([item for sublist in event[\"cluster_cell_ID\"] for item in sublist])]\n",
    "    temp_df = temp_df.set_index(\"cell_geo_ID\")\n",
    "    ### Assign cell energies\n",
    "    for cell_id, cell_e in zip(\n",
    "        [item for sublist in event[\"cluster_cell_ID\"] for item in sublist],\n",
    "        [item for sublist in event[\"cluster_cell_E\"] for item in sublist]\n",
    "    ):\n",
    "        temp_df.loc[int(cell_id), \"cell_E\"] = cell_e\n",
    "    \n",
    "    ### Define node features\n",
    "    n_nodes = temp_df.shape[0]\n",
    "    node_features = [\"cell_E\", \"cell_geo_eta\",\n",
    "                     \"cell_geo_phi\", \"cell_geo_rPerp\",\n",
    "                     \"cell_geo_deta\", \"cell_geo_dphi\",\n",
    "                     \"cell_geo_volume\"]\n",
    "    nodes = temp_df[node_features].to_numpy(dtype=np.float32).reshape(-1, len(node_features))\n",
    "    \n",
    "    ### Apply k-NN search to find cell neighbors\n",
    "    # NOTE FAIR also has a faster algo for KNN search. Might want to try it\n",
    "    k = 6\n",
    "    k = min(n_nodes, k)\n",
    "    \n",
    "    nbrs = NearestNeighbors(n_neighbors=k, algorithm='ball_tree').fit(temp_df[[\"cell_geo_x\", \"cell_geo_y\", \"cell_geo_z\"]])\n",
    "    distances, indices = nbrs.kneighbors(temp_df[[\"cell_geo_x\", \"cell_geo_y\", \"cell_geo_z\"]])\n",
    "    \n",
    "    senders = np.repeat([x[0] for x in indices], k-1)               # k-1 for no self edges\n",
    "    receivers = np.array([x[1:] for x in indices]).flatten()        # x[1:] for no self edges\n",
    "    edges = np.array([x[1:] for x in distances], dtype=np.float32).flatten().reshape(-1, 1)\n",
    "    n_edges = len(senders)\n",
    "        \n",
    "    global_features = [\"cluster_E\", \"cluster_Eta\", \"cluster_Phi\"]\n",
    "    global_values = np.asarray(event[global_features]).astype('float32')\n",
    "    \n",
    "    input_datadict = {\n",
    "        \"n_node\": n_nodes,\n",
    "        \"n_edge\": n_edges,\n",
    "        \"nodes\": nodes,\n",
    "        \"edges\": edges,\n",
    "        \"senders\": senders,\n",
    "        \"receivers\": receivers,\n",
    "        \"globals\": global_values            # np.array([n_nodes], dtype=np.float32)\n",
    "    }\n",
    "    \n",
    "    target_datadict = {\n",
    "        \"n_node\": n_nodes,\n",
    "        \"n_edge\": n_edges,\n",
    "        \"nodes\": nodes,\n",
    "        \"edges\": edges,\n",
    "        \"senders\": senders,\n",
    "        \"receivers\": receivers,\n",
    "        \"globals\": np.array([int(is_charged)], dtype=np.float32)\n",
    "    }\n",
    "\n",
    "    input_graph = utils_tf.data_dicts_to_graphs_tuple([input_datadict])\n",
    "    target_graph = utils_tf.data_dicts_to_graphs_tuple([target_datadict])\n",
    "    \n",
    "    return input_graph, target_graph\n",
    "\n",
    "def make_dict(event: pd.Series, geo_df: pd.DataFrame, is_charged=False):\n",
    "    \"\"\"\n",
    "    Creates a graph representation of an event\n",
    "    \n",
    "    inputs\n",
    "    event (pd.Series) one event/row from EventTree\n",
    "    geo_df (pd.DataFrame) the CellGeo DataFrame mapping cell_geo_ID to information about the cell\n",
    "    is_charged (bool) True for charged pion, False for uncharged pion\n",
    "    \n",
    "    returns\n",
    "    A pair of graph representations of the event for the GNN (train_graph, target_graph)\n",
    "    returns (None, None) if no cell energies detected\n",
    "    \"\"\"\n",
    "    \n",
    "    ### No cell energies present\n",
    "    if len(event[\"cluster_cell_E\"]) == 0:\n",
    "        return None, None\n",
    "    \n",
    "    ### Get cell geometry information for this particular event\n",
    "    temp_df = geo_df[geo_df[\"cell_geo_ID\"].isin([item for sublist in event[\"cluster_cell_ID\"] for item in sublist])]\n",
    "    temp_df = temp_df.set_index(\"cell_geo_ID\")\n",
    "    ### Assign cell energies\n",
    "    for cell_id, cell_e in zip(\n",
    "        [item for sublist in event[\"cluster_cell_ID\"] for item in sublist],\n",
    "        [item for sublist in event[\"cluster_cell_E\"] for item in sublist]\n",
    "    ):\n",
    "        temp_df.loc[int(cell_id), \"cell_E\"] = cell_e\n",
    "    \n",
    "    ### Define node features\n",
    "    n_nodes = temp_df.shape[0]\n",
    "    node_features = [\"cell_E\", \"cell_geo_eta\",\n",
    "                     \"cell_geo_phi\", \"cell_geo_rPerp\",\n",
    "                     \"cell_geo_deta\", \"cell_geo_dphi\",\n",
    "                     \"cell_geo_volume\"]\n",
    "    nodes = temp_df[node_features].to_numpy(dtype=np.float32).reshape(-1, len(node_features))\n",
    "    \n",
    "    ### Apply k-NN search to find cell neighbors\n",
    "    # NOTE FAIR also has a faster algo for KNN search. Might want to try it\n",
    "    k = 6\n",
    "    k = min(n_nodes, k)\n",
    "    \n",
    "    nbrs = NearestNeighbors(n_neighbors=k, algorithm='ball_tree').fit(temp_df[[\"cell_geo_x\", \"cell_geo_y\", \"cell_geo_z\"]])\n",
    "    distances, indices = nbrs.kneighbors(temp_df[[\"cell_geo_x\", \"cell_geo_y\", \"cell_geo_z\"]])\n",
    "    \n",
    "    senders = np.repeat([x[0] for x in indices], k-1)               # k-1 for no self edges\n",
    "    receivers = np.array([x[1:] for x in indices]).flatten()        # x[1:] for no self edges\n",
    "    edges = np.array([x[1:] for x in distances], dtype=np.float32).flatten().reshape(-1, 1)\n",
    "    n_edges = len(senders)\n",
    "        \n",
    "    global_features = [\"cluster_E\", \"cluster_Eta\", \"cluster_Phi\"]\n",
    "    global_values = np.asarray(event[global_features]).astype('float32')\n",
    "    \n",
    "    input_datadict = {\n",
    "        \"n_node\": n_nodes,\n",
    "        \"n_edge\": n_edges,\n",
    "        \"nodes\": nodes,\n",
    "        \"edges\": edges,\n",
    "        \"senders\": senders,\n",
    "        \"receivers\": receivers,\n",
    "        \"globals\": global_values            # np.array([n_nodes], dtype=np.float32)\n",
    "    }\n",
    "    \n",
    "    target_datadict = {\n",
    "        \"n_node\": n_nodes,\n",
    "        \"n_edge\": n_edges,\n",
    "        \"nodes\": nodes,\n",
    "        \"edges\": edges,\n",
    "        \"senders\": senders,\n",
    "        \"receivers\": receivers,\n",
    "        \"globals\": np.array([int(is_charged)], dtype=np.float32)\n",
    "    }\n",
    "\n",
    "#     input_graph = utils_tf.data_dicts_to_graphs_tuple([input_datadict])\n",
    "#     target_graph = utils_tf.data_dicts_to_graphs_tuple([target_datadict])\n",
    "    \n",
    "    return input_datadict, target_datadict"
   ]
  },
  {
   "cell_type": "code",
   "execution_count": null,
   "id": "a39dd4a8-658b-4fa3-8d3c-e8118238ddae",
   "metadata": {},
   "outputs": [],
   "source": [
    "%%timeit\n",
    "n_entries = 100\n",
    "graph_list = []\n",
    "for i in range(n_entries):\n",
    "    graph_list.append(make_graph(df.iloc[i], geo_df=df_geo, is_charged=False))\n",
    "    \n",
    "input_graph_list = [tuple[0] for tuple in graph_list]\n",
    "target_graph_list = [tuple[1] for tuple in graph_list]"
   ]
  },
  {
   "cell_type": "markdown",
   "id": "869f63e4-0681-499c-9682-c2173d91f5a7",
   "metadata": {},
   "source": [
    "Pick an event to look at:"
   ]
  },
  {
   "cell_type": "code",
   "execution_count": 9,
   "id": "f45d8b11-848e-45ea-981c-9463616a111c",
   "metadata": {},
   "outputs": [
    {
     "name": "stderr",
     "output_type": "stream",
     "text": [
      " 26%|██▌       | 5393/20963 [05:22<15:31, 16.71it/s]\n"
     ]
    },
    {
     "ename": "KeyboardInterrupt",
     "evalue": "",
     "output_type": "error",
     "traceback": [
      "\u001b[0;31m---------------------------------------------------------------------------\u001b[0m",
      "\u001b[0;31mKeyboardInterrupt\u001b[0m                         Traceback (most recent call last)",
      "\u001b[0;32m<ipython-input-9-afd1c2ae4a83>\u001b[0m in \u001b[0;36m<module>\u001b[0;34m\u001b[0m\n\u001b[1;32m      1\u001b[0m \u001b[0mgraph_list\u001b[0m \u001b[0;34m=\u001b[0m \u001b[0;34m[\u001b[0m\u001b[0;34m]\u001b[0m\u001b[0;34m\u001b[0m\u001b[0;34m\u001b[0m\u001b[0m\n\u001b[1;32m      2\u001b[0m \u001b[0;32mfor\u001b[0m \u001b[0mi\u001b[0m \u001b[0;32min\u001b[0m \u001b[0mtqdm\u001b[0m\u001b[0;34m(\u001b[0m\u001b[0mrange\u001b[0m\u001b[0;34m(\u001b[0m\u001b[0mlen\u001b[0m\u001b[0;34m(\u001b[0m\u001b[0mdf\u001b[0m\u001b[0;34m)\u001b[0m\u001b[0;34m)\u001b[0m\u001b[0;34m)\u001b[0m\u001b[0;34m:\u001b[0m\u001b[0;34m\u001b[0m\u001b[0;34m\u001b[0m\u001b[0m\n\u001b[0;32m----> 3\u001b[0;31m     \u001b[0mgraph_list\u001b[0m\u001b[0;34m.\u001b[0m\u001b[0mappend\u001b[0m\u001b[0;34m(\u001b[0m\u001b[0mmake_graph\u001b[0m\u001b[0;34m(\u001b[0m\u001b[0mdf\u001b[0m\u001b[0;34m.\u001b[0m\u001b[0miloc\u001b[0m\u001b[0;34m[\u001b[0m\u001b[0mi\u001b[0m\u001b[0;34m]\u001b[0m\u001b[0;34m,\u001b[0m \u001b[0mgeo_df\u001b[0m\u001b[0;34m=\u001b[0m\u001b[0mdf_geo\u001b[0m\u001b[0;34m,\u001b[0m \u001b[0mis_charged\u001b[0m\u001b[0;34m=\u001b[0m\u001b[0;32mFalse\u001b[0m\u001b[0;34m)\u001b[0m\u001b[0;34m)\u001b[0m\u001b[0;34m\u001b[0m\u001b[0;34m\u001b[0m\u001b[0m\n\u001b[0m",
      "\u001b[0;32m<ipython-input-8-b99067388af4>\u001b[0m in \u001b[0;36mmake_graph\u001b[0;34m(event, geo_df, is_charged)\u001b[0m\n\u001b[1;32m     25\u001b[0m         \u001b[0;34m[\u001b[0m\u001b[0mitem\u001b[0m \u001b[0;32mfor\u001b[0m \u001b[0msublist\u001b[0m \u001b[0;32min\u001b[0m \u001b[0mevent\u001b[0m\u001b[0;34m[\u001b[0m\u001b[0;34m\"cluster_cell_E\"\u001b[0m\u001b[0;34m]\u001b[0m \u001b[0;32mfor\u001b[0m \u001b[0mitem\u001b[0m \u001b[0;32min\u001b[0m \u001b[0msublist\u001b[0m\u001b[0;34m]\u001b[0m\u001b[0;34m\u001b[0m\u001b[0;34m\u001b[0m\u001b[0m\n\u001b[1;32m     26\u001b[0m     ):\n\u001b[0;32m---> 27\u001b[0;31m         \u001b[0mtemp_df\u001b[0m\u001b[0;34m.\u001b[0m\u001b[0mloc\u001b[0m\u001b[0;34m[\u001b[0m\u001b[0mint\u001b[0m\u001b[0;34m(\u001b[0m\u001b[0mcell_id\u001b[0m\u001b[0;34m)\u001b[0m\u001b[0;34m,\u001b[0m \u001b[0;34m\"cell_E\"\u001b[0m\u001b[0;34m]\u001b[0m \u001b[0;34m=\u001b[0m \u001b[0mcell_e\u001b[0m\u001b[0;34m\u001b[0m\u001b[0;34m\u001b[0m\u001b[0m\n\u001b[0m\u001b[1;32m     28\u001b[0m \u001b[0;34m\u001b[0m\u001b[0m\n\u001b[1;32m     29\u001b[0m     \u001b[0;31m### Define node features\u001b[0m\u001b[0;34m\u001b[0m\u001b[0;34m\u001b[0m\u001b[0;34m\u001b[0m\u001b[0m\n",
      "\u001b[0;32m~/.conda/envs/ml4pions/lib/python3.8/site-packages/pandas/core/indexing.py\u001b[0m in \u001b[0;36m__setitem__\u001b[0;34m(self, key, value)\u001b[0m\n\u001b[1;32m    690\u001b[0m \u001b[0;34m\u001b[0m\u001b[0m\n\u001b[1;32m    691\u001b[0m         \u001b[0miloc\u001b[0m \u001b[0;34m=\u001b[0m \u001b[0mself\u001b[0m \u001b[0;32mif\u001b[0m \u001b[0mself\u001b[0m\u001b[0;34m.\u001b[0m\u001b[0mname\u001b[0m \u001b[0;34m==\u001b[0m \u001b[0;34m\"iloc\"\u001b[0m \u001b[0;32melse\u001b[0m \u001b[0mself\u001b[0m\u001b[0;34m.\u001b[0m\u001b[0mobj\u001b[0m\u001b[0;34m.\u001b[0m\u001b[0miloc\u001b[0m\u001b[0;34m\u001b[0m\u001b[0;34m\u001b[0m\u001b[0m\n\u001b[0;32m--> 692\u001b[0;31m         \u001b[0miloc\u001b[0m\u001b[0;34m.\u001b[0m\u001b[0m_setitem_with_indexer\u001b[0m\u001b[0;34m(\u001b[0m\u001b[0mindexer\u001b[0m\u001b[0;34m,\u001b[0m \u001b[0mvalue\u001b[0m\u001b[0;34m,\u001b[0m \u001b[0mself\u001b[0m\u001b[0;34m.\u001b[0m\u001b[0mname\u001b[0m\u001b[0;34m)\u001b[0m\u001b[0;34m\u001b[0m\u001b[0;34m\u001b[0m\u001b[0m\n\u001b[0m\u001b[1;32m    693\u001b[0m \u001b[0;34m\u001b[0m\u001b[0m\n\u001b[1;32m    694\u001b[0m     \u001b[0;32mdef\u001b[0m \u001b[0m_validate_key\u001b[0m\u001b[0;34m(\u001b[0m\u001b[0mself\u001b[0m\u001b[0;34m,\u001b[0m \u001b[0mkey\u001b[0m\u001b[0;34m,\u001b[0m \u001b[0maxis\u001b[0m\u001b[0;34m:\u001b[0m \u001b[0mint\u001b[0m\u001b[0;34m)\u001b[0m\u001b[0;34m:\u001b[0m\u001b[0;34m\u001b[0m\u001b[0;34m\u001b[0m\u001b[0m\n",
      "\u001b[0;32m~/.conda/envs/ml4pions/lib/python3.8/site-packages/pandas/core/indexing.py\u001b[0m in \u001b[0;36m_setitem_with_indexer\u001b[0;34m(self, indexer, value, name)\u001b[0m\n\u001b[1;32m   1633\u001b[0m         \u001b[0;32mif\u001b[0m \u001b[0mtake_split_path\u001b[0m\u001b[0;34m:\u001b[0m\u001b[0;34m\u001b[0m\u001b[0;34m\u001b[0m\u001b[0m\n\u001b[1;32m   1634\u001b[0m             \u001b[0;31m# We have to operate column-wise\u001b[0m\u001b[0;34m\u001b[0m\u001b[0;34m\u001b[0m\u001b[0;34m\u001b[0m\u001b[0m\n\u001b[0;32m-> 1635\u001b[0;31m             \u001b[0mself\u001b[0m\u001b[0;34m.\u001b[0m\u001b[0m_setitem_with_indexer_split_path\u001b[0m\u001b[0;34m(\u001b[0m\u001b[0mindexer\u001b[0m\u001b[0;34m,\u001b[0m \u001b[0mvalue\u001b[0m\u001b[0;34m,\u001b[0m \u001b[0mname\u001b[0m\u001b[0;34m)\u001b[0m\u001b[0;34m\u001b[0m\u001b[0;34m\u001b[0m\u001b[0m\n\u001b[0m\u001b[1;32m   1636\u001b[0m         \u001b[0;32melse\u001b[0m\u001b[0;34m:\u001b[0m\u001b[0;34m\u001b[0m\u001b[0;34m\u001b[0m\u001b[0m\n\u001b[1;32m   1637\u001b[0m             \u001b[0mself\u001b[0m\u001b[0;34m.\u001b[0m\u001b[0m_setitem_single_block\u001b[0m\u001b[0;34m(\u001b[0m\u001b[0mindexer\u001b[0m\u001b[0;34m,\u001b[0m \u001b[0mvalue\u001b[0m\u001b[0;34m,\u001b[0m \u001b[0mname\u001b[0m\u001b[0;34m)\u001b[0m\u001b[0;34m\u001b[0m\u001b[0;34m\u001b[0m\u001b[0m\n",
      "\u001b[0;32m~/.conda/envs/ml4pions/lib/python3.8/site-packages/pandas/core/indexing.py\u001b[0m in \u001b[0;36m_setitem_with_indexer_split_path\u001b[0;34m(self, indexer, value, name)\u001b[0m\n\u001b[1;32m   1718\u001b[0m             \u001b[0;31m# scalar value\u001b[0m\u001b[0;34m\u001b[0m\u001b[0;34m\u001b[0m\u001b[0;34m\u001b[0m\u001b[0m\n\u001b[1;32m   1719\u001b[0m             \u001b[0;32mfor\u001b[0m \u001b[0mloc\u001b[0m \u001b[0;32min\u001b[0m \u001b[0milocs\u001b[0m\u001b[0;34m:\u001b[0m\u001b[0;34m\u001b[0m\u001b[0;34m\u001b[0m\u001b[0m\n\u001b[0;32m-> 1720\u001b[0;31m                 \u001b[0mself\u001b[0m\u001b[0;34m.\u001b[0m\u001b[0m_setitem_single_column\u001b[0m\u001b[0;34m(\u001b[0m\u001b[0mloc\u001b[0m\u001b[0;34m,\u001b[0m \u001b[0mvalue\u001b[0m\u001b[0;34m,\u001b[0m \u001b[0mpi\u001b[0m\u001b[0;34m)\u001b[0m\u001b[0;34m\u001b[0m\u001b[0;34m\u001b[0m\u001b[0m\n\u001b[0m\u001b[1;32m   1721\u001b[0m \u001b[0;34m\u001b[0m\u001b[0m\n\u001b[1;32m   1722\u001b[0m     \u001b[0;32mdef\u001b[0m \u001b[0m_setitem_with_indexer_2d_value\u001b[0m\u001b[0;34m(\u001b[0m\u001b[0mself\u001b[0m\u001b[0;34m,\u001b[0m \u001b[0mindexer\u001b[0m\u001b[0;34m,\u001b[0m \u001b[0mvalue\u001b[0m\u001b[0;34m)\u001b[0m\u001b[0;34m:\u001b[0m\u001b[0;34m\u001b[0m\u001b[0;34m\u001b[0m\u001b[0m\n",
      "\u001b[0;31mKeyboardInterrupt\u001b[0m: "
     ]
    }
   ],
   "source": [
    "# graph_list = []\n",
    "# for i in tqdm(range(len(df))):\n",
    "#     graph_list.append(make_graph(df.iloc[i], geo_df=df_geo, is_charged=False))"
   ]
  },
  {
   "cell_type": "code",
   "execution_count": null,
   "id": "6e53a38d-053b-458d-b769-3e6d320fd81d",
   "metadata": {},
   "outputs": [],
   "source": [
    "n_entries = 20\n",
    "graph_list = []\n",
    "for i in range(n_entries):\n",
    "    graph_list.append(make_graph(df.iloc[i], geo_df=df_geo, is_charged=False))\n",
    "\n",
    "input_graph_list = [tuple[0] for tuple in graph_list]\n",
    "target_graph_list = [tuple[1] for tuple in graph_list]\n",
    "\n",
    "graph = input_graph_list[15] # pick event #15, say\n",
    "print(graph.globals)"
   ]
  },
  {
   "cell_type": "code",
   "execution_count": null,
   "id": "66ba180b-3a72-467a-84b7-02be8d6f6d70",
   "metadata": {},
   "outputs": [],
   "source": [
    "import pickle \n",
    "with open('test.pkl', 'wb') as f:\n",
    "    pickle.dump(graph_list, f)"
   ]
  },
  {
   "cell_type": "code",
   "execution_count": null,
   "id": "398c92ef-5935-47da-9ff3-eb42be174f47",
   "metadata": {},
   "outputs": [],
   "source": [
    "# try reading it back in...\n",
    "with open('test.pkl', 'rb') as f:\n",
    "    graph_list_loaded = pickle.load(f)"
   ]
  },
  {
   "cell_type": "code",
   "execution_count": null,
   "id": "3ffc421f-9d03-4b11-af43-26dd08b853df",
   "metadata": {},
   "outputs": [],
   "source": [
    "input_graph_list[0].n_node"
   ]
  },
  {
   "cell_type": "code",
   "execution_count": null,
   "id": "0651ba0c-3a49-4bae-bb5f-b807ad6dc6b0",
   "metadata": {},
   "outputs": [],
   "source": [
    "target_graph_list[0].n_node"
   ]
  },
  {
   "cell_type": "code",
   "execution_count": null,
   "id": "96afadb6-42c2-49c2-8c92-ead1dcfa3c3a",
   "metadata": {},
   "outputs": [],
   "source": [
    "graph_list[10][0].globals"
   ]
  },
  {
   "cell_type": "markdown",
   "id": "ec356df8-f46f-4481-9f7b-895ad70ea373",
   "metadata": {},
   "source": [
    "# Try running over all the files!"
   ]
  },
  {
   "cell_type": "code",
   "execution_count": null,
   "id": "188cd82e-b490-4e23-8107-0036744360a1",
   "metadata": {},
   "outputs": [],
   "source": [
    "files = glob('/global/cfs/cdirs/m3246/mpettee/ml4pions/LCStudies/data/user.angerami.mc16_13TeV.900246.PG_singlepi0_logE0p2to2000.e8312_e7400_s3170_r12383.v01-45-gaa27bcb_OutputStream/*.root')"
   ]
  },
  {
   "cell_type": "code",
   "execution_count": null,
   "id": "31cdb90f-a0fe-4dbc-85f8-7dfdaff70e2e",
   "metadata": {},
   "outputs": [],
   "source": [
    "for file in files:\n",
    "    print(len(uproot.open(file)['EventTree'].arrays([\"cluster_cell_E\", \"cluster_cell_ID\", \"cluster_E\", \"cluster_Eta\", \"cluster_Phi\"], library=\"pd\")))"
   ]
  },
  {
   "cell_type": "code",
   "execution_count": 17,
   "id": "1e39f768-0d1d-4879-b82a-19ddc8c0e000",
   "metadata": {},
   "outputs": [],
   "source": [
    "def divide_chunks(l, n):\n",
    "    return [l[i::n] for i in range(n)]"
   ]
  },
  {
   "cell_type": "code",
   "execution_count": 18,
   "id": "6b270723-9179-4415-98e4-6b2720f43921",
   "metadata": {},
   "outputs": [
    {
     "name": "stdout",
     "output_type": "stream",
     "text": [
      "50 files for worker #0:\n"
     ]
    }
   ],
   "source": [
    "files = glob('../data/*singlepi0*/*.root')\n",
    "chunks = list(divide_chunks(files, 10))\n",
    "worker_files = chunks[0]\n",
    "print(\"{} files for worker #{}:\".format(len(chunks[0]),0))\n",
    "# print(worker_files) "
   ]
  },
  {
   "cell_type": "code",
   "execution_count": 20,
   "id": "a23bbb26-f351-425a-b66d-c836d2f3218a",
   "metadata": {},
   "outputs": [
    {
     "name": "stderr",
     "output_type": "stream",
     "text": [
      "  0%|          | 0/50 [00:00<?, ?it/s]\n",
      "  0%|          | 0/21147 [00:00<?, ?it/s]\u001b[A\n",
      "  0%|          | 1/21147 [00:00<1:04:24,  5.47it/s]\u001b[A\n",
      "  0%|          | 2/21147 [00:00<55:47,  6.32it/s]  \u001b[A\n",
      "  0%|          | 5/21147 [00:00<26:58, 13.07it/s]\u001b[A\n",
      "  0%|          | 8/21147 [00:00<25:07, 14.02it/s]\u001b[A\n",
      "  0%|          | 10/21147 [00:00<25:10, 13.99it/s]\u001b[A\n",
      "  0%|          | 13/21147 [00:00<20:17, 17.36it/s]\u001b[A\n",
      "  0%|          | 15/21147 [00:01<20:15, 17.38it/s]\u001b[A\n",
      "  0%|          | 18/21147 [00:01<18:58, 18.56it/s]\u001b[A\n",
      "  0%|          | 21/21147 [00:01<17:34, 20.03it/s]\u001b[A\n",
      "  0%|          | 24/21147 [00:01<17:02, 20.66it/s]\u001b[A\n",
      "  0%|          | 27/21147 [00:01<16:28, 21.36it/s]\u001b[A\n",
      "  0%|          | 30/21147 [00:01<15:48, 22.26it/s]\u001b[A\n",
      "  0%|          | 33/21147 [00:01<14:37, 24.07it/s]\u001b[A\n",
      "  0%|          | 36/21147 [00:01<14:35, 24.12it/s]\u001b[A\n",
      "  0%|          | 39/21147 [00:02<18:56, 18.57it/s]\u001b[A\n",
      "  0%|          | 42/21147 [00:02<18:16, 19.25it/s]\u001b[A\n",
      "  0%|          | 45/21147 [00:02<18:28, 19.04it/s]\u001b[A\n",
      "  0%|          | 48/21147 [00:02<17:01, 20.65it/s]\u001b[A\n",
      "  0%|          | 51/21147 [00:02<19:13, 18.29it/s]\u001b[A\n",
      "  0%|          | 54/21147 [00:02<18:11, 19.32it/s]\u001b[A\n",
      "  0%|          | 57/21147 [00:03<19:39, 17.88it/s]\u001b[A\n",
      "  0%|          | 59/21147 [00:03<20:56, 16.78it/s]\u001b[A\n",
      "  0%|          | 62/21147 [00:03<18:59, 18.50it/s]\u001b[A\n",
      "  0%|          | 65/21147 [00:03<18:16, 19.23it/s]\u001b[A\n",
      "  0%|          | 68/21147 [00:03<16:47, 20.93it/s]\u001b[A\n",
      "  0%|          | 72/21147 [00:03<19:26, 18.06it/s]\u001b[A\n",
      "  0%|          | 0/50 [00:11<?, ?it/s]\n"
     ]
    },
    {
     "ename": "KeyboardInterrupt",
     "evalue": "",
     "output_type": "error",
     "traceback": [
      "\u001b[0;31m---------------------------------------------------------------------------\u001b[0m",
      "\u001b[0;31mKeyboardInterrupt\u001b[0m                         Traceback (most recent call last)",
      "\u001b[0;32m<ipython-input-20-f119ed135c69>\u001b[0m in \u001b[0;36m<module>\u001b[0;34m\u001b[0m\n\u001b[1;32m     19\u001b[0m     \u001b[0mgraph_list\u001b[0m \u001b[0;34m=\u001b[0m \u001b[0;34m[\u001b[0m\u001b[0;34m]\u001b[0m\u001b[0;34m\u001b[0m\u001b[0;34m\u001b[0m\u001b[0m\n\u001b[1;32m     20\u001b[0m     \u001b[0;32mfor\u001b[0m \u001b[0mi\u001b[0m \u001b[0;32min\u001b[0m \u001b[0mtqdm\u001b[0m\u001b[0;34m(\u001b[0m\u001b[0mrange\u001b[0m\u001b[0;34m(\u001b[0m\u001b[0mlen\u001b[0m\u001b[0;34m(\u001b[0m\u001b[0mdf\u001b[0m\u001b[0;34m)\u001b[0m\u001b[0;34m)\u001b[0m\u001b[0;34m)\u001b[0m\u001b[0;34m:\u001b[0m\u001b[0;34m\u001b[0m\u001b[0;34m\u001b[0m\u001b[0m\n\u001b[0;32m---> 21\u001b[0;31m         \u001b[0mgraph_list\u001b[0m\u001b[0;34m.\u001b[0m\u001b[0mappend\u001b[0m\u001b[0;34m(\u001b[0m\u001b[0mmake_graph\u001b[0m\u001b[0;34m(\u001b[0m\u001b[0mdf\u001b[0m\u001b[0;34m.\u001b[0m\u001b[0miloc\u001b[0m\u001b[0;34m[\u001b[0m\u001b[0mi\u001b[0m\u001b[0;34m]\u001b[0m\u001b[0;34m,\u001b[0m \u001b[0mgeo_df\u001b[0m\u001b[0;34m=\u001b[0m\u001b[0mdf_geo\u001b[0m\u001b[0;34m,\u001b[0m \u001b[0mis_charged\u001b[0m\u001b[0;34m=\u001b[0m\u001b[0;32mFalse\u001b[0m\u001b[0;34m)\u001b[0m\u001b[0;34m)\u001b[0m\u001b[0;34m\u001b[0m\u001b[0;34m\u001b[0m\u001b[0m\n\u001b[0m\u001b[1;32m     22\u001b[0m \u001b[0;34m\u001b[0m\u001b[0m\n\u001b[1;32m     23\u001b[0m     \u001b[0;31m### Save Pickle file, with zero-indexing:\u001b[0m\u001b[0;34m\u001b[0m\u001b[0;34m\u001b[0m\u001b[0;34m\u001b[0m\u001b[0m\n",
      "\u001b[0;32m<ipython-input-16-b99067388af4>\u001b[0m in \u001b[0;36mmake_graph\u001b[0;34m(event, geo_df, is_charged)\u001b[0m\n\u001b[1;32m     25\u001b[0m         \u001b[0;34m[\u001b[0m\u001b[0mitem\u001b[0m \u001b[0;32mfor\u001b[0m \u001b[0msublist\u001b[0m \u001b[0;32min\u001b[0m \u001b[0mevent\u001b[0m\u001b[0;34m[\u001b[0m\u001b[0;34m\"cluster_cell_E\"\u001b[0m\u001b[0;34m]\u001b[0m \u001b[0;32mfor\u001b[0m \u001b[0mitem\u001b[0m \u001b[0;32min\u001b[0m \u001b[0msublist\u001b[0m\u001b[0;34m]\u001b[0m\u001b[0;34m\u001b[0m\u001b[0;34m\u001b[0m\u001b[0m\n\u001b[1;32m     26\u001b[0m     ):\n\u001b[0;32m---> 27\u001b[0;31m         \u001b[0mtemp_df\u001b[0m\u001b[0;34m.\u001b[0m\u001b[0mloc\u001b[0m\u001b[0;34m[\u001b[0m\u001b[0mint\u001b[0m\u001b[0;34m(\u001b[0m\u001b[0mcell_id\u001b[0m\u001b[0;34m)\u001b[0m\u001b[0;34m,\u001b[0m \u001b[0;34m\"cell_E\"\u001b[0m\u001b[0;34m]\u001b[0m \u001b[0;34m=\u001b[0m \u001b[0mcell_e\u001b[0m\u001b[0;34m\u001b[0m\u001b[0;34m\u001b[0m\u001b[0m\n\u001b[0m\u001b[1;32m     28\u001b[0m \u001b[0;34m\u001b[0m\u001b[0m\n\u001b[1;32m     29\u001b[0m     \u001b[0;31m### Define node features\u001b[0m\u001b[0;34m\u001b[0m\u001b[0;34m\u001b[0m\u001b[0;34m\u001b[0m\u001b[0m\n",
      "\u001b[0;32m~/.conda/envs/ml4pions/lib/python3.8/site-packages/pandas/core/indexing.py\u001b[0m in \u001b[0;36m__setitem__\u001b[0;34m(self, key, value)\u001b[0m\n\u001b[1;32m    690\u001b[0m \u001b[0;34m\u001b[0m\u001b[0m\n\u001b[1;32m    691\u001b[0m         \u001b[0miloc\u001b[0m \u001b[0;34m=\u001b[0m \u001b[0mself\u001b[0m \u001b[0;32mif\u001b[0m \u001b[0mself\u001b[0m\u001b[0;34m.\u001b[0m\u001b[0mname\u001b[0m \u001b[0;34m==\u001b[0m \u001b[0;34m\"iloc\"\u001b[0m \u001b[0;32melse\u001b[0m \u001b[0mself\u001b[0m\u001b[0;34m.\u001b[0m\u001b[0mobj\u001b[0m\u001b[0;34m.\u001b[0m\u001b[0miloc\u001b[0m\u001b[0;34m\u001b[0m\u001b[0;34m\u001b[0m\u001b[0m\n\u001b[0;32m--> 692\u001b[0;31m         \u001b[0miloc\u001b[0m\u001b[0;34m.\u001b[0m\u001b[0m_setitem_with_indexer\u001b[0m\u001b[0;34m(\u001b[0m\u001b[0mindexer\u001b[0m\u001b[0;34m,\u001b[0m \u001b[0mvalue\u001b[0m\u001b[0;34m,\u001b[0m \u001b[0mself\u001b[0m\u001b[0;34m.\u001b[0m\u001b[0mname\u001b[0m\u001b[0;34m)\u001b[0m\u001b[0;34m\u001b[0m\u001b[0;34m\u001b[0m\u001b[0m\n\u001b[0m\u001b[1;32m    693\u001b[0m \u001b[0;34m\u001b[0m\u001b[0m\n\u001b[1;32m    694\u001b[0m     \u001b[0;32mdef\u001b[0m \u001b[0m_validate_key\u001b[0m\u001b[0;34m(\u001b[0m\u001b[0mself\u001b[0m\u001b[0;34m,\u001b[0m \u001b[0mkey\u001b[0m\u001b[0;34m,\u001b[0m \u001b[0maxis\u001b[0m\u001b[0;34m:\u001b[0m \u001b[0mint\u001b[0m\u001b[0;34m)\u001b[0m\u001b[0;34m:\u001b[0m\u001b[0;34m\u001b[0m\u001b[0;34m\u001b[0m\u001b[0m\n",
      "\u001b[0;32m~/.conda/envs/ml4pions/lib/python3.8/site-packages/pandas/core/indexing.py\u001b[0m in \u001b[0;36m_setitem_with_indexer\u001b[0;34m(self, indexer, value, name)\u001b[0m\n\u001b[1;32m   1633\u001b[0m         \u001b[0;32mif\u001b[0m \u001b[0mtake_split_path\u001b[0m\u001b[0;34m:\u001b[0m\u001b[0;34m\u001b[0m\u001b[0;34m\u001b[0m\u001b[0m\n\u001b[1;32m   1634\u001b[0m             \u001b[0;31m# We have to operate column-wise\u001b[0m\u001b[0;34m\u001b[0m\u001b[0;34m\u001b[0m\u001b[0;34m\u001b[0m\u001b[0m\n\u001b[0;32m-> 1635\u001b[0;31m             \u001b[0mself\u001b[0m\u001b[0;34m.\u001b[0m\u001b[0m_setitem_with_indexer_split_path\u001b[0m\u001b[0;34m(\u001b[0m\u001b[0mindexer\u001b[0m\u001b[0;34m,\u001b[0m \u001b[0mvalue\u001b[0m\u001b[0;34m,\u001b[0m \u001b[0mname\u001b[0m\u001b[0;34m)\u001b[0m\u001b[0;34m\u001b[0m\u001b[0;34m\u001b[0m\u001b[0m\n\u001b[0m\u001b[1;32m   1636\u001b[0m         \u001b[0;32melse\u001b[0m\u001b[0;34m:\u001b[0m\u001b[0;34m\u001b[0m\u001b[0;34m\u001b[0m\u001b[0m\n\u001b[1;32m   1637\u001b[0m             \u001b[0mself\u001b[0m\u001b[0;34m.\u001b[0m\u001b[0m_setitem_single_block\u001b[0m\u001b[0;34m(\u001b[0m\u001b[0mindexer\u001b[0m\u001b[0;34m,\u001b[0m \u001b[0mvalue\u001b[0m\u001b[0;34m,\u001b[0m \u001b[0mname\u001b[0m\u001b[0;34m)\u001b[0m\u001b[0;34m\u001b[0m\u001b[0;34m\u001b[0m\u001b[0m\n",
      "\u001b[0;32m~/.conda/envs/ml4pions/lib/python3.8/site-packages/pandas/core/indexing.py\u001b[0m in \u001b[0;36m_setitem_with_indexer_split_path\u001b[0;34m(self, indexer, value, name)\u001b[0m\n\u001b[1;32m   1718\u001b[0m             \u001b[0;31m# scalar value\u001b[0m\u001b[0;34m\u001b[0m\u001b[0;34m\u001b[0m\u001b[0;34m\u001b[0m\u001b[0m\n\u001b[1;32m   1719\u001b[0m             \u001b[0;32mfor\u001b[0m \u001b[0mloc\u001b[0m \u001b[0;32min\u001b[0m \u001b[0milocs\u001b[0m\u001b[0;34m:\u001b[0m\u001b[0;34m\u001b[0m\u001b[0;34m\u001b[0m\u001b[0m\n\u001b[0;32m-> 1720\u001b[0;31m                 \u001b[0mself\u001b[0m\u001b[0;34m.\u001b[0m\u001b[0m_setitem_single_column\u001b[0m\u001b[0;34m(\u001b[0m\u001b[0mloc\u001b[0m\u001b[0;34m,\u001b[0m \u001b[0mvalue\u001b[0m\u001b[0;34m,\u001b[0m \u001b[0mpi\u001b[0m\u001b[0;34m)\u001b[0m\u001b[0;34m\u001b[0m\u001b[0;34m\u001b[0m\u001b[0m\n\u001b[0m\u001b[1;32m   1721\u001b[0m \u001b[0;34m\u001b[0m\u001b[0m\n\u001b[1;32m   1722\u001b[0m     \u001b[0;32mdef\u001b[0m \u001b[0m_setitem_with_indexer_2d_value\u001b[0m\u001b[0;34m(\u001b[0m\u001b[0mself\u001b[0m\u001b[0;34m,\u001b[0m \u001b[0mindexer\u001b[0m\u001b[0;34m,\u001b[0m \u001b[0mvalue\u001b[0m\u001b[0;34m)\u001b[0m\u001b[0;34m:\u001b[0m\u001b[0;34m\u001b[0m\u001b[0;34m\u001b[0m\u001b[0m\n",
      "\u001b[0;32m~/.conda/envs/ml4pions/lib/python3.8/site-packages/pandas/core/indexing.py\u001b[0m in \u001b[0;36m_setitem_single_column\u001b[0;34m(self, loc, value, plane_indexer)\u001b[0m\n\u001b[1;32m   1799\u001b[0m         \u001b[0mpi\u001b[0m \u001b[0;34m=\u001b[0m \u001b[0mplane_indexer\u001b[0m\u001b[0;34m\u001b[0m\u001b[0;34m\u001b[0m\u001b[0m\n\u001b[1;32m   1800\u001b[0m \u001b[0;34m\u001b[0m\u001b[0m\n\u001b[0;32m-> 1801\u001b[0;31m         \u001b[0mser\u001b[0m \u001b[0;34m=\u001b[0m \u001b[0mself\u001b[0m\u001b[0;34m.\u001b[0m\u001b[0mobj\u001b[0m\u001b[0;34m.\u001b[0m\u001b[0m_ixs\u001b[0m\u001b[0;34m(\u001b[0m\u001b[0mloc\u001b[0m\u001b[0;34m,\u001b[0m \u001b[0maxis\u001b[0m\u001b[0;34m=\u001b[0m\u001b[0;36m1\u001b[0m\u001b[0;34m)\u001b[0m\u001b[0;34m\u001b[0m\u001b[0;34m\u001b[0m\u001b[0m\n\u001b[0m\u001b[1;32m   1802\u001b[0m \u001b[0;34m\u001b[0m\u001b[0m\n\u001b[1;32m   1803\u001b[0m         \u001b[0;31m# perform the equivalent of a setitem on the info axis\u001b[0m\u001b[0;34m\u001b[0m\u001b[0;34m\u001b[0m\u001b[0;34m\u001b[0m\u001b[0m\n",
      "\u001b[0;32m~/.conda/envs/ml4pions/lib/python3.8/site-packages/pandas/core/frame.py\u001b[0m in \u001b[0;36m_ixs\u001b[0;34m(self, i, axis)\u001b[0m\n\u001b[1;32m   2963\u001b[0m \u001b[0;34m\u001b[0m\u001b[0m\n\u001b[1;32m   2964\u001b[0m             \u001b[0mvalues\u001b[0m \u001b[0;34m=\u001b[0m \u001b[0mself\u001b[0m\u001b[0;34m.\u001b[0m\u001b[0m_mgr\u001b[0m\u001b[0;34m.\u001b[0m\u001b[0miget\u001b[0m\u001b[0;34m(\u001b[0m\u001b[0mi\u001b[0m\u001b[0;34m)\u001b[0m\u001b[0;34m\u001b[0m\u001b[0;34m\u001b[0m\u001b[0m\n\u001b[0;32m-> 2965\u001b[0;31m             \u001b[0mresult\u001b[0m \u001b[0;34m=\u001b[0m \u001b[0mself\u001b[0m\u001b[0;34m.\u001b[0m\u001b[0m_box_col_values\u001b[0m\u001b[0;34m(\u001b[0m\u001b[0mvalues\u001b[0m\u001b[0;34m,\u001b[0m \u001b[0mi\u001b[0m\u001b[0;34m)\u001b[0m\u001b[0;34m\u001b[0m\u001b[0;34m\u001b[0m\u001b[0m\n\u001b[0m\u001b[1;32m   2966\u001b[0m \u001b[0;34m\u001b[0m\u001b[0m\n\u001b[1;32m   2967\u001b[0m             \u001b[0;31m# this is a cached value, mark it so\u001b[0m\u001b[0;34m\u001b[0m\u001b[0;34m\u001b[0m\u001b[0;34m\u001b[0m\u001b[0m\n",
      "\u001b[0;32m~/.conda/envs/ml4pions/lib/python3.8/site-packages/pandas/core/frame.py\u001b[0m in \u001b[0;36m_box_col_values\u001b[0;34m(self, values, loc)\u001b[0m\n\u001b[1;32m   3309\u001b[0m         \u001b[0mname\u001b[0m \u001b[0;34m=\u001b[0m \u001b[0mself\u001b[0m\u001b[0;34m.\u001b[0m\u001b[0mcolumns\u001b[0m\u001b[0;34m[\u001b[0m\u001b[0mloc\u001b[0m\u001b[0;34m]\u001b[0m\u001b[0;34m\u001b[0m\u001b[0;34m\u001b[0m\u001b[0m\n\u001b[1;32m   3310\u001b[0m         \u001b[0mklass\u001b[0m \u001b[0;34m=\u001b[0m \u001b[0mself\u001b[0m\u001b[0;34m.\u001b[0m\u001b[0m_constructor_sliced\u001b[0m\u001b[0;34m\u001b[0m\u001b[0;34m\u001b[0m\u001b[0m\n\u001b[0;32m-> 3311\u001b[0;31m         \u001b[0;32mreturn\u001b[0m \u001b[0mklass\u001b[0m\u001b[0;34m(\u001b[0m\u001b[0mvalues\u001b[0m\u001b[0;34m,\u001b[0m \u001b[0mindex\u001b[0m\u001b[0;34m=\u001b[0m\u001b[0mself\u001b[0m\u001b[0;34m.\u001b[0m\u001b[0mindex\u001b[0m\u001b[0;34m,\u001b[0m \u001b[0mname\u001b[0m\u001b[0;34m=\u001b[0m\u001b[0mname\u001b[0m\u001b[0;34m,\u001b[0m \u001b[0mfastpath\u001b[0m\u001b[0;34m=\u001b[0m\u001b[0;32mTrue\u001b[0m\u001b[0;34m)\u001b[0m\u001b[0;34m\u001b[0m\u001b[0;34m\u001b[0m\u001b[0m\n\u001b[0m\u001b[1;32m   3312\u001b[0m \u001b[0;34m\u001b[0m\u001b[0m\n\u001b[1;32m   3313\u001b[0m     \u001b[0;31m# ----------------------------------------------------------------------\u001b[0m\u001b[0;34m\u001b[0m\u001b[0;34m\u001b[0m\u001b[0;34m\u001b[0m\u001b[0m\n",
      "\u001b[0;32m~/.conda/envs/ml4pions/lib/python3.8/site-packages/pandas/core/series.py\u001b[0m in \u001b[0;36m__init__\u001b[0;34m(self, data, index, dtype, name, copy, fastpath)\u001b[0m\n\u001b[1;32m    365\u001b[0m \u001b[0;34m\u001b[0m\u001b[0m\n\u001b[1;32m    366\u001b[0m         \u001b[0mgeneric\u001b[0m\u001b[0;34m.\u001b[0m\u001b[0mNDFrame\u001b[0m\u001b[0;34m.\u001b[0m\u001b[0m__init__\u001b[0m\u001b[0;34m(\u001b[0m\u001b[0mself\u001b[0m\u001b[0;34m,\u001b[0m \u001b[0mdata\u001b[0m\u001b[0;34m)\u001b[0m\u001b[0;34m\u001b[0m\u001b[0;34m\u001b[0m\u001b[0m\n\u001b[0;32m--> 367\u001b[0;31m         \u001b[0mself\u001b[0m\u001b[0;34m.\u001b[0m\u001b[0mname\u001b[0m \u001b[0;34m=\u001b[0m \u001b[0mname\u001b[0m\u001b[0;34m\u001b[0m\u001b[0;34m\u001b[0m\u001b[0m\n\u001b[0m\u001b[1;32m    368\u001b[0m         \u001b[0mself\u001b[0m\u001b[0;34m.\u001b[0m\u001b[0m_set_axis\u001b[0m\u001b[0;34m(\u001b[0m\u001b[0;36m0\u001b[0m\u001b[0;34m,\u001b[0m \u001b[0mindex\u001b[0m\u001b[0;34m,\u001b[0m \u001b[0mfastpath\u001b[0m\u001b[0;34m=\u001b[0m\u001b[0;32mTrue\u001b[0m\u001b[0;34m)\u001b[0m\u001b[0;34m\u001b[0m\u001b[0;34m\u001b[0m\u001b[0m\n\u001b[1;32m    369\u001b[0m \u001b[0;34m\u001b[0m\u001b[0m\n",
      "\u001b[0;32m~/.conda/envs/ml4pions/lib/python3.8/site-packages/pandas/core/generic.py\u001b[0m in \u001b[0;36m__setattr__\u001b[0;34m(self, name, value)\u001b[0m\n\u001b[1;32m   5482\u001b[0m             \u001b[0mobject\u001b[0m\u001b[0;34m.\u001b[0m\u001b[0m__setattr__\u001b[0m\u001b[0;34m(\u001b[0m\u001b[0mself\u001b[0m\u001b[0;34m,\u001b[0m \u001b[0mname\u001b[0m\u001b[0;34m,\u001b[0m \u001b[0mvalue\u001b[0m\u001b[0;34m)\u001b[0m\u001b[0;34m\u001b[0m\u001b[0;34m\u001b[0m\u001b[0m\n\u001b[1;32m   5483\u001b[0m         \u001b[0;32melif\u001b[0m \u001b[0mname\u001b[0m \u001b[0;32min\u001b[0m \u001b[0mself\u001b[0m\u001b[0;34m.\u001b[0m\u001b[0m_metadata\u001b[0m\u001b[0;34m:\u001b[0m\u001b[0;34m\u001b[0m\u001b[0;34m\u001b[0m\u001b[0m\n\u001b[0;32m-> 5484\u001b[0;31m             \u001b[0mobject\u001b[0m\u001b[0;34m.\u001b[0m\u001b[0m__setattr__\u001b[0m\u001b[0;34m(\u001b[0m\u001b[0mself\u001b[0m\u001b[0;34m,\u001b[0m \u001b[0mname\u001b[0m\u001b[0;34m,\u001b[0m \u001b[0mvalue\u001b[0m\u001b[0;34m)\u001b[0m\u001b[0;34m\u001b[0m\u001b[0;34m\u001b[0m\u001b[0m\n\u001b[0m\u001b[1;32m   5485\u001b[0m         \u001b[0;32melse\u001b[0m\u001b[0;34m:\u001b[0m\u001b[0;34m\u001b[0m\u001b[0;34m\u001b[0m\u001b[0m\n\u001b[1;32m   5486\u001b[0m             \u001b[0;32mtry\u001b[0m\u001b[0;34m:\u001b[0m\u001b[0;34m\u001b[0m\u001b[0;34m\u001b[0m\u001b[0m\n",
      "\u001b[0;32m~/.conda/envs/ml4pions/lib/python3.8/site-packages/pandas/core/series.py\u001b[0m in \u001b[0;36mname\u001b[0;34m(self, value)\u001b[0m\n\u001b[1;32m    536\u001b[0m     \u001b[0;34m@\u001b[0m\u001b[0mname\u001b[0m\u001b[0;34m.\u001b[0m\u001b[0msetter\u001b[0m\u001b[0;34m\u001b[0m\u001b[0;34m\u001b[0m\u001b[0m\n\u001b[1;32m    537\u001b[0m     \u001b[0;32mdef\u001b[0m \u001b[0mname\u001b[0m\u001b[0;34m(\u001b[0m\u001b[0mself\u001b[0m\u001b[0;34m,\u001b[0m \u001b[0mvalue\u001b[0m\u001b[0;34m:\u001b[0m \u001b[0mLabel\u001b[0m\u001b[0;34m)\u001b[0m \u001b[0;34m->\u001b[0m \u001b[0;32mNone\u001b[0m\u001b[0;34m:\u001b[0m\u001b[0;34m\u001b[0m\u001b[0;34m\u001b[0m\u001b[0m\n\u001b[0;32m--> 538\u001b[0;31m         \u001b[0mvalidate_all_hashable\u001b[0m\u001b[0;34m(\u001b[0m\u001b[0mvalue\u001b[0m\u001b[0;34m,\u001b[0m \u001b[0merror_name\u001b[0m\u001b[0;34m=\u001b[0m\u001b[0;34mf\"{type(self).__name__}.name\"\u001b[0m\u001b[0;34m)\u001b[0m\u001b[0;34m\u001b[0m\u001b[0;34m\u001b[0m\u001b[0m\n\u001b[0m\u001b[1;32m    539\u001b[0m         \u001b[0mobject\u001b[0m\u001b[0;34m.\u001b[0m\u001b[0m__setattr__\u001b[0m\u001b[0;34m(\u001b[0m\u001b[0mself\u001b[0m\u001b[0;34m,\u001b[0m \u001b[0;34m\"_name\"\u001b[0m\u001b[0;34m,\u001b[0m \u001b[0mvalue\u001b[0m\u001b[0;34m)\u001b[0m\u001b[0;34m\u001b[0m\u001b[0;34m\u001b[0m\u001b[0m\n\u001b[1;32m    540\u001b[0m \u001b[0;34m\u001b[0m\u001b[0m\n",
      "\u001b[0;31mKeyboardInterrupt\u001b[0m: "
     ]
    }
   ],
   "source": [
    "for file in tqdm(worker_files):\n",
    "    ### Define primary dataframe\n",
    "    f = uproot.open(file)\n",
    "    df = f['EventTree'].arrays([\"cluster_cell_E\", \"cluster_cell_ID\", \"cluster_E\", \"cluster_Eta\", \"cluster_Phi\"], library=\"pd\")\n",
    "    df.reset_index(inplace=True) # flatten MultiIndexing\n",
    "\n",
    "    ### Define cell geometry dataframe\n",
    "    df_geo = f['CellGeo'].arrays(library=\"pd\")\n",
    "    df_geo = df_geo.reset_index() # remove redundant multi-indexing\n",
    "    df_geo.drop(columns = [\"entry\", \"subentry\"], inplace=True)\n",
    "\n",
    "    ### Add x,y,z coordinates\n",
    "    df_geo[\"cell_geo_x\"] = df_geo[\"cell_geo_rPerp\"] * np.cos(df_geo[\"cell_geo_phi\"])\n",
    "    df_geo[\"cell_geo_y\"] = df_geo[\"cell_geo_rPerp\"] * np.sin(df_geo[\"cell_geo_phi\"])\n",
    "    cell_geo_theta = 2*np.arctan(np.exp(-df_geo[\"cell_geo_eta\"]))\n",
    "    df_geo[\"cell_geo_z\"] = df_geo[\"cell_geo_rPerp\"] / np.tan(cell_geo_theta)\n",
    "\n",
    "    ### Make the graphs for the specified events\n",
    "    graph_list = []\n",
    "    for i in tqdm(range(len(df))):\n",
    "        graph_list.append(make_graph(df.iloc[i], geo_df=df_geo, is_charged=False))\n",
    "\n",
    "    ### Save Pickle file, with zero-indexing:\n",
    "    os.makedirs(args.save_dir, exist_ok=True)\n",
    "    filepath = os.path.join(args.save_dir,file.split('.')[-2][1:]+'.pkl')\n",
    "    with open(filepath, 'wb') as f:\n",
    "        pickle.dump(graph_list, f)"
   ]
  },
  {
   "cell_type": "code",
   "execution_count": null,
   "id": "84a1293d-e383-4667-8d39-8e0f603380f0",
   "metadata": {},
   "outputs": [],
   "source": []
  }
 ],
 "metadata": {
  "kernelspec": {
   "display_name": "ml4pions",
   "language": "python",
   "name": "ml4pions"
  },
  "language_info": {
   "codemirror_mode": {
    "name": "ipython",
    "version": 3
   },
   "file_extension": ".py",
   "mimetype": "text/x-python",
   "name": "python",
   "nbconvert_exporter": "python",
   "pygments_lexer": "ipython3",
   "version": "3.8.5"
  }
 },
 "nbformat": 4,
 "nbformat_minor": 5
}
