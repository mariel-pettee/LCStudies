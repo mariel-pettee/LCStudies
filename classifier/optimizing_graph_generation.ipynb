{
 "cells": [
  {
   "cell_type": "markdown",
   "id": "b51a650a-5d8e-4176-bf2f-05a380521420",
   "metadata": {},
   "source": [
    "### Optimizing Ming's graph-generating code for speed"
   ]
  },
  {
   "cell_type": "code",
   "execution_count": 1,
   "id": "837eccd3-9307-4f46-bceb-e9fc540c0d74",
   "metadata": {},
   "outputs": [],
   "source": [
    "%load_ext autoreload\n",
    "%autoreload 2"
   ]
  },
  {
   "cell_type": "code",
   "execution_count": 2,
   "id": "7bc0a207-ff9e-41a6-9a75-70224ccadae8",
   "metadata": {},
   "outputs": [],
   "source": [
    "### Generic imports\n",
    "import os\n",
    "import numpy as np\n",
    "import pandas as pd\n",
    "import matplotlib.pyplot as plt\n",
    "from matplotlib.colors import Normalize, LogNorm\n",
    "import scipy\n",
    "import uproot\n",
    "from tqdm import tqdm\n",
    "import functools\n",
    "from glob import glob\n",
    "\n",
    "### ML-related\n",
    "import tensorflow as tf\n",
    "import atlas_mpl_style as ampl\n",
    "from sklearn.neighbors import NearestNeighbors\n",
    "from sklearn.utils import shuffle\n",
    "from sklearn.model_selection import train_test_split\n",
    "from sklearn.metrics import roc_curve, auc\n",
    "import sonnet as snt\n",
    "\n",
    "### GNN-related\n",
    "from graph_nets import blocks\n",
    "from graph_nets import graphs\n",
    "from graph_nets import modules\n",
    "from graph_nets import utils_np\n",
    "from graph_nets import utils_tf\n",
    "import networkx as nx"
   ]
  },
  {
   "cell_type": "code",
   "execution_count": 3,
   "id": "441c06b8-4ff0-412d-96d0-891baa1ae683",
   "metadata": {},
   "outputs": [],
   "source": [
    "# ### GPU Setup\n",
    "# os.environ[\"CUDA_DEVICE_ORDER\"] = \"PCI_BUS_ID\"\n",
    "# os.environ[\"CUDA_VISIBLE_DEVICES\"] = \"3\" # pick a number between 0 & 3\n",
    "# gpus = tf.config.list_physical_devices('GPU') \n",
    "# tf.config.experimental.set_memory_growth(gpus[0], True)"
   ]
  },
  {
   "cell_type": "code",
   "execution_count": 4,
   "id": "746fac36-b33d-4e4a-a57e-bbd96f1da8c5",
   "metadata": {},
   "outputs": [],
   "source": [
    "### Other setup \n",
    "pd.set_option('display.max_columns', 200)\n",
    "pd.set_option('display.max_rows', 20)\n",
    "\n",
    "params = {'legend.fontsize': 13, 'axes.labelsize': 18}\n",
    "plt.rcParams.update(params)\n",
    "\n",
    "SEED = 15\n",
    "np.random.seed(SEED)\n",
    "tf.random.set_seed(SEED)"
   ]
  },
  {
   "cell_type": "markdown",
   "id": "7d2fde83-ad0e-4065-87d2-e7a91416572d",
   "metadata": {
    "jp-MarkdownHeadingCollapsed": true,
    "tags": []
   },
   "source": [
    "# Run on a single file"
   ]
  },
  {
   "cell_type": "markdown",
   "id": "da919e24-c556-48d5-9bf4-8bb56f1f7200",
   "metadata": {
    "tags": []
   },
   "source": [
    "### Load files"
   ]
  },
  {
   "cell_type": "markdown",
   "id": "518006df-d858-4356-926d-47db5858a8d8",
   "metadata": {},
   "source": [
    "First, a sample of single neutral pions:"
   ]
  },
  {
   "cell_type": "code",
   "execution_count": null,
   "id": "524b9a4e-ef88-46ed-ba1d-0158621b398d",
   "metadata": {},
   "outputs": [],
   "source": [
    "file_path = '../data/neutral_pion_sample.root'\n",
    "f_pi0 = uproot.open(file_path)"
   ]
  },
  {
   "cell_type": "markdown",
   "id": "1509e054-6e5f-420e-822b-7766f1a26ef9",
   "metadata": {},
   "source": [
    "Define the primary DataFrame:"
   ]
  },
  {
   "cell_type": "code",
   "execution_count": null,
   "id": "777f5407-4682-45d1-aa52-5574b8a72692",
   "metadata": {},
   "outputs": [],
   "source": [
    "df = f_pi0['EventTree'].arrays([\"cluster_cell_E\", \"cluster_cell_ID\", \"cluster_E\", \"cluster_Eta\", \"cluster_Phi\"], library=\"pd\")\n",
    "df.reset_index(inplace=True) # flatten MultiIndexing"
   ]
  },
  {
   "cell_type": "markdown",
   "id": "9c9164ee-d4bb-4035-bdc8-705d3e916f1b",
   "metadata": {},
   "source": [
    "Define the cell geometry DataFrame:"
   ]
  },
  {
   "cell_type": "code",
   "execution_count": null,
   "id": "02260826-038a-48ec-a51d-ef1e3375ec82",
   "metadata": {},
   "outputs": [],
   "source": [
    "df_geo = f_pi0['CellGeo'].arrays(library=\"pd\")\n",
    "df_geo = df_geo.reset_index() # remove redundant multi-indexing\n",
    "df_geo.drop(columns = [\"entry\", \"subentry\"], inplace=True)\n",
    "\n",
    "### Add x,y,z coordinates\n",
    "df_geo[\"cell_geo_x\"] = df_geo[\"cell_geo_rPerp\"] * np.cos(df_geo[\"cell_geo_phi\"])\n",
    "df_geo[\"cell_geo_y\"] = df_geo[\"cell_geo_rPerp\"] * np.sin(df_geo[\"cell_geo_phi\"])\n",
    "cell_geo_theta = 2*np.arctan(np.exp(-df_geo[\"cell_geo_eta\"]))\n",
    "df_geo[\"cell_geo_z\"] = df_geo[\"cell_geo_rPerp\"] / np.tan(cell_geo_theta)"
   ]
  },
  {
   "cell_type": "markdown",
   "id": "94dd63ba-8279-471f-9710-7b1e0ad7b2f2",
   "metadata": {},
   "source": [
    "#### Define graph-making function"
   ]
  },
  {
   "cell_type": "code",
   "execution_count": null,
   "id": "7ff78c49-4a5e-4ca5-873c-42fa818fdde1",
   "metadata": {},
   "outputs": [],
   "source": [
    "def make_graph(event: pd.Series, geo_df: pd.DataFrame, is_charged=False):\n",
    "    \"\"\"\n",
    "    Creates a graph representation of an event\n",
    "    \n",
    "    inputs\n",
    "    event (pd.Series) one event/row from EventTree\n",
    "    geo_df (pd.DataFrame) the CellGeo DataFrame mapping cell_geo_ID to information about the cell\n",
    "    is_charged (bool) True for charged pion, False for uncharged pion\n",
    "    \n",
    "    returns\n",
    "    A pair of graph representations of the event for the GNN (train_graph, target_graph)\n",
    "    returns (None, None) if no cell energies detected\n",
    "    \"\"\"\n",
    "    \n",
    "    ### No cell energies present\n",
    "    if len(event[\"cluster_cell_E\"]) == 0:\n",
    "        return None, None\n",
    "    \n",
    "    ### Get cell geometry information for this particular event\n",
    "    temp_df = geo_df[geo_df[\"cell_geo_ID\"].isin([item for sublist in event[\"cluster_cell_ID\"] for item in sublist])]\n",
    "    temp_df = temp_df.set_index(\"cell_geo_ID\")\n",
    "    ### Assign cell energies\n",
    "    for cell_id, cell_e in zip(\n",
    "        [item for sublist in event[\"cluster_cell_ID\"] for item in sublist],\n",
    "        [item for sublist in event[\"cluster_cell_E\"] for item in sublist]\n",
    "    ):\n",
    "        temp_df.loc[int(cell_id), \"cell_E\"] = cell_e\n",
    "    \n",
    "    ### Define node features\n",
    "    n_nodes = temp_df.shape[0]\n",
    "    node_features = [\"cell_E\", \"cell_geo_eta\",\n",
    "                     \"cell_geo_phi\", \"cell_geo_rPerp\",\n",
    "                     \"cell_geo_deta\", \"cell_geo_dphi\",\n",
    "                     \"cell_geo_volume\"]\n",
    "    nodes = temp_df[node_features].to_numpy(dtype=np.float32).reshape(-1, len(node_features))\n",
    "    \n",
    "    ### Apply k-NN search to find cell neighbors\n",
    "    # NOTE FAIR also has a faster algo for KNN search. Might want to try it\n",
    "    k = 6\n",
    "    k = min(n_nodes, k)\n",
    "    \n",
    "    nbrs = NearestNeighbors(n_neighbors=k, algorithm='ball_tree').fit(temp_df[[\"cell_geo_x\", \"cell_geo_y\", \"cell_geo_z\"]])\n",
    "    distances, indices = nbrs.kneighbors(temp_df[[\"cell_geo_x\", \"cell_geo_y\", \"cell_geo_z\"]])\n",
    "    \n",
    "    senders = np.repeat([x[0] for x in indices], k-1)               # k-1 for no self edges\n",
    "    receivers = np.array([x[1:] for x in indices]).flatten()        # x[1:] for no self edges\n",
    "    edges = np.array([x[1:] for x in distances], dtype=np.float32).flatten().reshape(-1, 1)\n",
    "    n_edges = len(senders)\n",
    "        \n",
    "    global_features = [\"cluster_E\", \"cluster_Eta\", \"cluster_Phi\"]\n",
    "    global_values = np.asarray(event[global_features]).astype('float32')\n",
    "    \n",
    "    input_datadict = {\n",
    "        \"n_node\": n_nodes,\n",
    "        \"n_edge\": n_edges,\n",
    "        \"nodes\": nodes,\n",
    "        \"edges\": edges,\n",
    "        \"senders\": senders,\n",
    "        \"receivers\": receivers,\n",
    "        \"globals\": global_values            # np.array([n_nodes], dtype=np.float32)\n",
    "    }\n",
    "    \n",
    "    target_datadict = {\n",
    "        \"n_node\": n_nodes,\n",
    "        \"n_edge\": n_edges,\n",
    "        \"nodes\": nodes,\n",
    "        \"edges\": edges,\n",
    "        \"senders\": senders,\n",
    "        \"receivers\": receivers,\n",
    "        \"globals\": np.array([int(is_charged)], dtype=np.float32)\n",
    "    }\n",
    "\n",
    "    input_graph = utils_tf.data_dicts_to_graphs_tuple([input_datadict])\n",
    "    target_graph = utils_tf.data_dicts_to_graphs_tuple([target_datadict])\n",
    "    \n",
    "    return input_graph, target_graph\n",
    "\n",
    "def make_dict(event: pd.Series, geo_df: pd.DataFrame, is_charged=False):\n",
    "    \"\"\"\n",
    "    Creates a graph representation of an event\n",
    "    \n",
    "    inputs\n",
    "    event (pd.Series) one event/row from EventTree\n",
    "    geo_df (pd.DataFrame) the CellGeo DataFrame mapping cell_geo_ID to information about the cell\n",
    "    is_charged (bool) True for charged pion, False for uncharged pion\n",
    "    \n",
    "    returns\n",
    "    A pair of graph representations of the event for the GNN (train_graph, target_graph)\n",
    "    returns (None, None) if no cell energies detected\n",
    "    \"\"\"\n",
    "    \n",
    "    ### No cell energies present\n",
    "    if len(event[\"cluster_cell_E\"]) == 0:\n",
    "        return None, None\n",
    "    \n",
    "    ### Get cell geometry information for this particular event\n",
    "    temp_df = geo_df[geo_df[\"cell_geo_ID\"].isin([item for sublist in event[\"cluster_cell_ID\"] for item in sublist])]\n",
    "    temp_df = temp_df.set_index(\"cell_geo_ID\")\n",
    "    ### Assign cell energies\n",
    "    for cell_id, cell_e in zip(\n",
    "        [item for sublist in event[\"cluster_cell_ID\"] for item in sublist],\n",
    "        [item for sublist in event[\"cluster_cell_E\"] for item in sublist]\n",
    "    ):\n",
    "        temp_df.loc[int(cell_id), \"cell_E\"] = cell_e\n",
    "    \n",
    "    ### Define node features\n",
    "    n_nodes = temp_df.shape[0]\n",
    "    node_features = [\"cell_E\", \"cell_geo_eta\",\n",
    "                     \"cell_geo_phi\", \"cell_geo_rPerp\",\n",
    "                     \"cell_geo_deta\", \"cell_geo_dphi\",\n",
    "                     \"cell_geo_volume\"]\n",
    "    nodes = temp_df[node_features].to_numpy(dtype=np.float32).reshape(-1, len(node_features))\n",
    "    \n",
    "    ### Apply k-NN search to find cell neighbors\n",
    "    # NOTE FAIR also has a faster algo for KNN search. Might want to try it\n",
    "    k = 6\n",
    "    k = min(n_nodes, k)\n",
    "    \n",
    "    nbrs = NearestNeighbors(n_neighbors=k, algorithm='ball_tree').fit(temp_df[[\"cell_geo_x\", \"cell_geo_y\", \"cell_geo_z\"]])\n",
    "    distances, indices = nbrs.kneighbors(temp_df[[\"cell_geo_x\", \"cell_geo_y\", \"cell_geo_z\"]])\n",
    "    \n",
    "    senders = np.repeat([x[0] for x in indices], k-1)               # k-1 for no self edges\n",
    "    receivers = np.array([x[1:] for x in indices]).flatten()        # x[1:] for no self edges\n",
    "    edges = np.array([x[1:] for x in distances], dtype=np.float32).flatten().reshape(-1, 1)\n",
    "    n_edges = len(senders)\n",
    "        \n",
    "    global_features = [\"cluster_E\", \"cluster_Eta\", \"cluster_Phi\"]\n",
    "    global_values = np.asarray(event[global_features]).astype('float32')\n",
    "    \n",
    "    input_datadict = {\n",
    "        \"n_node\": n_nodes,\n",
    "        \"n_edge\": n_edges,\n",
    "        \"nodes\": nodes,\n",
    "        \"edges\": edges,\n",
    "        \"senders\": senders,\n",
    "        \"receivers\": receivers,\n",
    "        \"globals\": global_values            # np.array([n_nodes], dtype=np.float32)\n",
    "    }\n",
    "    \n",
    "    target_datadict = {\n",
    "        \"n_node\": n_nodes,\n",
    "        \"n_edge\": n_edges,\n",
    "        \"nodes\": nodes,\n",
    "        \"edges\": edges,\n",
    "        \"senders\": senders,\n",
    "        \"receivers\": receivers,\n",
    "        \"globals\": np.array([int(is_charged)], dtype=np.float32)\n",
    "    }\n",
    "\n",
    "#     input_graph = utils_tf.data_dicts_to_graphs_tuple([input_datadict])\n",
    "#     target_graph = utils_tf.data_dicts_to_graphs_tuple([target_datadict])\n",
    "    \n",
    "    return input_datadict, target_datadict"
   ]
  },
  {
   "cell_type": "code",
   "execution_count": null,
   "id": "a39dd4a8-658b-4fa3-8d3c-e8118238ddae",
   "metadata": {},
   "outputs": [],
   "source": [
    "%%timeit\n",
    "n_entries = 100\n",
    "graph_list = []\n",
    "for i in range(n_entries):\n",
    "    graph_list.append(make_graph(df.iloc[i], geo_df=df_geo, is_charged=False))\n",
    "    \n",
    "input_graph_list = [tuple[0] for tuple in graph_list]\n",
    "target_graph_list = [tuple[1] for tuple in graph_list]"
   ]
  },
  {
   "cell_type": "markdown",
   "id": "869f63e4-0681-499c-9682-c2173d91f5a7",
   "metadata": {},
   "source": [
    "Pick an event to look at:"
   ]
  },
  {
   "cell_type": "code",
   "execution_count": null,
   "id": "f45d8b11-848e-45ea-981c-9463616a111c",
   "metadata": {},
   "outputs": [],
   "source": [
    "# graph_list = []\n",
    "# for i in tqdm(range(len(df))):\n",
    "#     graph_list.append(make_graph(df.iloc[i], geo_df=df_geo, is_charged=False))"
   ]
  },
  {
   "cell_type": "code",
   "execution_count": null,
   "id": "6e53a38d-053b-458d-b769-3e6d320fd81d",
   "metadata": {},
   "outputs": [],
   "source": [
    "n_entries = 20\n",
    "graph_list = []\n",
    "for i in range(n_entries):\n",
    "    graph_list.append(make_graph(df.iloc[i], geo_df=df_geo, is_charged=False))\n",
    "\n",
    "input_graph_list = [tuple[0] for tuple in graph_list]\n",
    "target_graph_list = [tuple[1] for tuple in graph_list]\n",
    "\n",
    "graph = input_graph_list[15] # pick event #15, say\n",
    "print(graph.globals)"
   ]
  },
  {
   "cell_type": "code",
   "execution_count": null,
   "id": "66ba180b-3a72-467a-84b7-02be8d6f6d70",
   "metadata": {},
   "outputs": [],
   "source": [
    "import pickle \n",
    "with open('test.pkl', 'wb') as f:\n",
    "    pickle.dump(graph_list, f)"
   ]
  },
  {
   "cell_type": "code",
   "execution_count": null,
   "id": "398c92ef-5935-47da-9ff3-eb42be174f47",
   "metadata": {},
   "outputs": [],
   "source": [
    "# try reading it back in...\n",
    "with open('test.pkl', 'rb') as f:\n",
    "    graph_list_loaded = pickle.load(f)"
   ]
  },
  {
   "cell_type": "code",
   "execution_count": null,
   "id": "3ffc421f-9d03-4b11-af43-26dd08b853df",
   "metadata": {},
   "outputs": [],
   "source": [
    "input_graph_list[0].n_node"
   ]
  },
  {
   "cell_type": "code",
   "execution_count": null,
   "id": "0651ba0c-3a49-4bae-bb5f-b807ad6dc6b0",
   "metadata": {},
   "outputs": [],
   "source": [
    "target_graph_list[0].n_node"
   ]
  },
  {
   "cell_type": "code",
   "execution_count": null,
   "id": "96afadb6-42c2-49c2-8c92-ead1dcfa3c3a",
   "metadata": {},
   "outputs": [],
   "source": [
    "graph_list[10][0].globals"
   ]
  },
  {
   "cell_type": "markdown",
   "id": "ec356df8-f46f-4481-9f7b-895ad70ea373",
   "metadata": {},
   "source": [
    "# Run over all files with multiprocessing"
   ]
  },
  {
   "cell_type": "code",
   "execution_count": 5,
   "id": "188cd82e-b490-4e23-8107-0036744360a1",
   "metadata": {},
   "outputs": [],
   "source": [
    "pi0_files = glob('/global/cfs/cdirs/m3246/mpettee/ml4pions/LCStudies/data/*singlepi0*/*.root')\n",
    "pion_files = glob('/global/cfs/cdirs/m3246/mpettee/ml4pions/LCStudies/data/*singlepion*/*.root')"
   ]
  },
  {
   "cell_type": "markdown",
   "id": "48417272-c888-4b7c-b550-da9688c6b524",
   "metadata": {
    "jp-MarkdownHeadingCollapsed": true,
    "tags": []
   },
   "source": [
    "### Testing multiprocessing setup"
   ]
  },
  {
   "cell_type": "code",
   "execution_count": null,
   "id": "6441b5aa-e9a6-463b-98fb-465ec2b40c70",
   "metadata": {},
   "outputs": [],
   "source": [
    "def process(file):\n",
    "    n_events = len(uproot.open(file)['EventTree'].arrays([\"cluster_cell_E\", \"cluster_cell_ID\", \"cluster_E\", \"cluster_Eta\", \"cluster_Phi\"], library=\"pd\"))\n",
    "    file_name = file.split('.')[-2]\n",
    "    print(\"File {} has {:,} events.\".format(file_name, n_events))"
   ]
  },
  {
   "cell_type": "code",
   "execution_count": null,
   "id": "31cdb90f-a0fe-4dbc-85f8-7dfdaff70e2e",
   "metadata": {},
   "outputs": [],
   "source": [
    "for file in pi0_files[:1]:\n",
    "    process(file)"
   ]
  },
  {
   "cell_type": "code",
   "execution_count": null,
   "id": "87adcbb9-db73-4111-966d-8dd2db6f604a",
   "metadata": {},
   "outputs": [],
   "source": [
    "from multiprocessing import Pool\n",
    "import time\n",
    "\n",
    "if __name__ == '__main__':\n",
    "    p = Pool(processes = 2)\n",
    "    t0 = time.time()\n",
    "    async_result = p.map_async(process, pi0_files[:2])\n",
    "    p.close()\n",
    "    p.join()\n",
    "    print('All done! Total time (seconds): {}'.format(time.time()-t0))"
   ]
  },
  {
   "cell_type": "code",
   "execution_count": null,
   "id": "009fec44-0b9f-4743-9abd-624109d28289",
   "metadata": {},
   "outputs": [],
   "source": [
    "def async_tqdm(func, argument_list, num_processes):\n",
    "\n",
    "    pool = Pool(processes=2)\n",
    "\n",
    "    jobs = [pool.apply_async(func=func, args=(*argument,)) if isinstance(argument, tuple) else pool.apply_async(func=func, args=(argument,)) for argument in argument_list]\n",
    "    pool.close()\n",
    "    result_list_tqdm = []\n",
    "    for job in tqdm(jobs):\n",
    "        result_list_tqdm.append(job.get())\n",
    "\n",
    "    return result_list_tqdm"
   ]
  },
  {
   "cell_type": "code",
   "execution_count": null,
   "id": "3fec74d5-8c7f-4308-ac9a-76e43313fe12",
   "metadata": {},
   "outputs": [],
   "source": [
    "async_tqdm(func=process, argument_list=pi0_files[:4], num_processes=2)"
   ]
  },
  {
   "cell_type": "markdown",
   "id": "9a044de7-3735-43b9-a94f-db8345919a7e",
   "metadata": {},
   "source": [
    "### Define functions"
   ]
  },
  {
   "cell_type": "code",
   "execution_count": 30,
   "id": "a23bbb26-f351-425a-b66d-c836d2f3218a",
   "metadata": {},
   "outputs": [],
   "source": [
    "from multiprocessing import Pool\n",
    "import time\n",
    "\n",
    "def async_tqdm(func, argument_list, num_processes):\n",
    "\n",
    "    pool = Pool(processes=2)\n",
    "\n",
    "    jobs = [pool.apply_async(func=func, args=(*argument,)) if isinstance(argument, tuple) else pool.apply_async(func=func, args=(argument,)) for argument in argument_list]\n",
    "    pool.close()\n",
    "    result_list_tqdm = []\n",
    "    for job in tqdm(jobs, desc=\"Jobs\"):\n",
    "        result_list_tqdm.append(job.get())\n",
    "\n",
    "    return result_list_tqdm\n",
    "\n",
    "def make_graph(event: pd.Series, geo_df: pd.DataFrame, is_charged=False):\n",
    "    \"\"\"\n",
    "    Creates a graph representation of an event\n",
    "    \n",
    "    inputs\n",
    "    event (pd.Series) one event/row from EventTree\n",
    "    geo_df (pd.DataFrame) the CellGeo DataFrame mapping cell_geo_ID to information about the cell\n",
    "    is_charged (bool) True for charged pion, False for uncharged pion\n",
    "    \n",
    "    returns\n",
    "    A pair of graph representations of the event for the GNN (train_graph, target_graph)\n",
    "    returns (None, None) if no cell energies detected\n",
    "    \"\"\"\n",
    "    \n",
    "    ### No cell energies present\n",
    "    if len(event[\"cluster_cell_E\"]) == 0:\n",
    "        return None, None\n",
    "    \n",
    "    ### Get cell geometry information for this particular event\n",
    "    temp_df = geo_df[geo_df[\"cell_geo_ID\"].isin([item for sublist in event[\"cluster_cell_ID\"] for item in sublist])]\n",
    "    temp_df = temp_df.set_index(\"cell_geo_ID\")\n",
    "    ### Assign cell energies\n",
    "    for cell_id, cell_e in zip(\n",
    "        [item for sublist in event[\"cluster_cell_ID\"] for item in sublist],\n",
    "        [item for sublist in event[\"cluster_cell_E\"] for item in sublist]\n",
    "    ):\n",
    "        temp_df.loc[int(cell_id), \"cell_E\"] = cell_e\n",
    "    \n",
    "    ### Define node features\n",
    "    n_nodes = temp_df.shape[0]\n",
    "    node_features = [\"cell_E\", \"cell_geo_eta\",\n",
    "                     \"cell_geo_phi\", \"cell_geo_rPerp\",\n",
    "                     \"cell_geo_deta\", \"cell_geo_dphi\",\n",
    "                     \"cell_geo_volume\"]\n",
    "    nodes = temp_df[node_features].to_numpy(dtype=np.float32).reshape(-1, len(node_features))\n",
    "    \n",
    "    ### Apply k-NN search to find cell neighbors\n",
    "    # NOTE FAIR also has a faster algo for KNN search. Might want to try it\n",
    "    k = 6\n",
    "    k = min(n_nodes, k)\n",
    "    \n",
    "    nbrs = NearestNeighbors(n_neighbors=k, algorithm='ball_tree').fit(temp_df[[\"cell_geo_x\", \"cell_geo_y\", \"cell_geo_z\"]])\n",
    "    distances, indices = nbrs.kneighbors(temp_df[[\"cell_geo_x\", \"cell_geo_y\", \"cell_geo_z\"]])\n",
    "    \n",
    "    senders = np.repeat([x[0] for x in indices], k-1)               # k-1 for no self edges\n",
    "    receivers = np.array([x[1:] for x in indices]).flatten()        # x[1:] for no self edges\n",
    "    edges = np.array([x[1:] for x in distances], dtype=np.float32).flatten().reshape(-1, 1)\n",
    "    n_edges = len(senders)\n",
    "        \n",
    "    global_features = [\"cluster_E\", \"cluster_Eta\", \"cluster_Phi\"]\n",
    "    global_values = np.asarray(event[global_features]).astype('float32')\n",
    "    \n",
    "    input_datadict = {\n",
    "        \"n_node\": n_nodes,\n",
    "        \"n_edge\": n_edges,\n",
    "        \"nodes\": nodes,\n",
    "        \"edges\": edges,\n",
    "        \"senders\": senders,\n",
    "        \"receivers\": receivers,\n",
    "        \"globals\": global_values            # np.array([n_nodes], dtype=np.float32)\n",
    "    }\n",
    "    \n",
    "    target_datadict = {\n",
    "        \"n_node\": n_nodes,\n",
    "        \"n_edge\": n_edges,\n",
    "        \"nodes\": nodes,\n",
    "        \"edges\": edges,\n",
    "        \"senders\": senders,\n",
    "        \"receivers\": receivers,\n",
    "        \"globals\": np.array([int(is_charged)], dtype=np.float32)\n",
    "    }\n",
    "\n",
    "    input_graph = utils_tf.data_dicts_to_graphs_tuple([input_datadict])\n",
    "    target_graph = utils_tf.data_dicts_to_graphs_tuple([target_datadict])\n",
    "    \n",
    "    return input_graph, target_graph\n",
    "\n",
    "def process_pi0_file(file, is_charged: bool = False):\n",
    "    ### Define primary dataframe\n",
    "    f = uproot.open(file)\n",
    "    df = f['EventTree'].arrays([\"cluster_cell_E\", \"cluster_cell_ID\", \"cluster_E\", \"cluster_Eta\", \"cluster_Phi\"], library=\"pd\")\n",
    "    df.reset_index(inplace=True) # flatten MultiIndexing\n",
    "\n",
    "    ### Define cell geometry dataframe\n",
    "    df_geo = f['CellGeo'].arrays(library=\"pd\")\n",
    "    df_geo = df_geo.reset_index() # remove redundant multi-indexing\n",
    "    df_geo.drop(columns = [\"entry\", \"subentry\"], inplace=True)\n",
    "\n",
    "    ### Add x,y,z coordinates\n",
    "    df_geo[\"cell_geo_x\"] = df_geo[\"cell_geo_rPerp\"] * np.cos(df_geo[\"cell_geo_phi\"])\n",
    "    df_geo[\"cell_geo_y\"] = df_geo[\"cell_geo_rPerp\"] * np.sin(df_geo[\"cell_geo_phi\"])\n",
    "    cell_geo_theta = 2*np.arctan(np.exp(-df_geo[\"cell_geo_eta\"]))\n",
    "    df_geo[\"cell_geo_z\"] = df_geo[\"cell_geo_rPerp\"] / np.tan(cell_geo_theta)\n",
    "\n",
    "    ### Make the graphs for the specified events\n",
    "    graph_list = []\n",
    "    for i in range(len(df[:1000])):\n",
    "        graph_list.append(make_graph(df.iloc[i], geo_df=df_geo, is_charged=is_charged))\n",
    "\n",
    "    ### Save Pickle file, with zero-indexing:\n",
    "    if is_charged == False:\n",
    "        save_dir = \"/global/cfs/cdirs/m3246/mpettee/ml4pions/LCStudies/graphs/neutral_pion/\"\n",
    "    elif is_charged == True:\n",
    "        save_dir = \"/global/cfs/cdirs/m3246/mpettee/ml4pions/LCStudies/graphs/charged_pion/\"\n",
    "    os.makedirs(save_dir, exist_ok=True)\n",
    "#     filepath = os.path.join(save_dir,file.split('.')[-2][1:]+'.pkl')\n",
    "#     with open(filepath, 'wb') as f:\n",
    "#         pickle.dump(graph_list, f)"
   ]
  },
  {
   "cell_type": "code",
   "execution_count": 32,
   "id": "84a1293d-e383-4667-8d39-8e0f603380f0",
   "metadata": {},
   "outputs": [
    {
     "name": "stderr",
     "output_type": "stream",
     "text": [
      "Jobs: 100%|██████████| 4/4 [02:47<00:00, 41.77s/it]\n"
     ]
    },
    {
     "data": {
      "text/plain": [
       "[None, None, None, None]"
      ]
     },
     "execution_count": 32,
     "metadata": {},
     "output_type": "execute_result"
    }
   ],
   "source": [
    "async_tqdm(func=process_pi0_file, argument_list=pi0_files[:4], num_processes=1)"
   ]
  },
  {
   "cell_type": "code",
   "execution_count": 33,
   "id": "5c939561-21c3-45be-ab9f-da4ce881f42a",
   "metadata": {},
   "outputs": [
    {
     "name": "stderr",
     "output_type": "stream",
     "text": [
      "Jobs: 100%|██████████| 4/4 [03:05<00:00, 46.46s/it]\n"
     ]
    },
    {
     "data": {
      "text/plain": [
       "[None, None, None, None]"
      ]
     },
     "execution_count": 33,
     "metadata": {},
     "output_type": "execute_result"
    }
   ],
   "source": [
    "async_tqdm(func=process_pi0_file, argument_list=pi0_files[:4], num_processes=2)"
   ]
  },
  {
   "cell_type": "code",
   "execution_count": 34,
   "id": "c5ad7031-e2f2-41fe-8a5a-3d3347f74fea",
   "metadata": {},
   "outputs": [
    {
     "name": "stderr",
     "output_type": "stream",
     "text": [
      "Jobs: 100%|██████████| 4/4 [03:01<00:00, 45.44s/it]\n"
     ]
    },
    {
     "data": {
      "text/plain": [
       "[None, None, None, None]"
      ]
     },
     "execution_count": 34,
     "metadata": {},
     "output_type": "execute_result"
    }
   ],
   "source": [
    "async_tqdm(func=process_pi0_file, argument_list=pi0_files[:4], num_processes=4)"
   ]
  },
  {
   "cell_type": "code",
   "execution_count": null,
   "id": "acd6d535-e02b-4431-8793-d4ba74b84437",
   "metadata": {},
   "outputs": [],
   "source": []
  }
 ],
 "metadata": {
  "kernelspec": {
   "display_name": "ml4pions",
   "language": "python",
   "name": "ml4pions"
  },
  "language_info": {
   "codemirror_mode": {
    "name": "ipython",
    "version": 3
   },
   "file_extension": ".py",
   "mimetype": "text/x-python",
   "name": "python",
   "nbconvert_exporter": "python",
   "pygments_lexer": "ipython3",
   "version": "3.8.5"
  }
 },
 "nbformat": 4,
 "nbformat_minor": 5
}
