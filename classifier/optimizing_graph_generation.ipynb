{
 "cells": [
  {
   "cell_type": "markdown",
   "id": "b51a650a-5d8e-4176-bf2f-05a380521420",
   "metadata": {},
   "source": [
    "### Optimizing Ming's graph-generating code for speed"
   ]
  },
  {
   "cell_type": "code",
   "execution_count": 1,
   "id": "837eccd3-9307-4f46-bceb-e9fc540c0d74",
   "metadata": {},
   "outputs": [],
   "source": [
    "%load_ext autoreload\n",
    "%autoreload 2"
   ]
  },
  {
   "cell_type": "code",
   "execution_count": 2,
   "id": "7bc0a207-ff9e-41a6-9a75-70224ccadae8",
   "metadata": {},
   "outputs": [],
   "source": [
    "### Generic imports\n",
    "import os\n",
    "import numpy as np\n",
    "import pandas as pd\n",
    "import matplotlib.pyplot as plt\n",
    "from matplotlib.colors import Normalize, LogNorm\n",
    "import scipy\n",
    "import uproot\n",
    "from tqdm import tqdm\n",
    "import functools\n",
    "\n",
    "### ML-related\n",
    "import tensorflow as tf\n",
    "import atlas_mpl_style as ampl\n",
    "from sklearn.neighbors import NearestNeighbors\n",
    "from sklearn.utils import shuffle\n",
    "from sklearn.model_selection import train_test_split\n",
    "from sklearn.metrics import roc_curve, auc\n",
    "import sonnet as snt\n",
    "\n",
    "### GNN-related\n",
    "from graph_nets import blocks\n",
    "from graph_nets import graphs\n",
    "from graph_nets import modules\n",
    "from graph_nets import utils_np\n",
    "from graph_nets import utils_tf\n",
    "import networkx as nx"
   ]
  },
  {
   "cell_type": "code",
   "execution_count": 3,
   "id": "441c06b8-4ff0-412d-96d0-891baa1ae683",
   "metadata": {},
   "outputs": [],
   "source": [
    "### GPU Setup\n",
    "os.environ[\"CUDA_DEVICE_ORDER\"] = \"PCI_BUS_ID\"\n",
    "os.environ[\"CUDA_VISIBLE_DEVICES\"] = \"3\" # pick a number between 0 & 3\n",
    "gpus = tf.config.list_physical_devices('GPU') \n",
    "tf.config.experimental.set_memory_growth(gpus[0], True)"
   ]
  },
  {
   "cell_type": "code",
   "execution_count": 19,
   "id": "746fac36-b33d-4e4a-a57e-bbd96f1da8c5",
   "metadata": {},
   "outputs": [],
   "source": [
    "### Other setup \n",
    "pd.set_option('display.max_columns', 200)\n",
    "pd.set_option('display.max_rows', 20)\n",
    "\n",
    "params = {'legend.fontsize': 13, 'axes.labelsize': 18}\n",
    "plt.rcParams.update(params)\n",
    "\n",
    "SEED = 15\n",
    "np.random.seed(SEED)\n",
    "tf.random.set_seed(SEED)"
   ]
  },
  {
   "cell_type": "markdown",
   "id": "da919e24-c556-48d5-9bf4-8bb56f1f7200",
   "metadata": {},
   "source": [
    "### Load files"
   ]
  },
  {
   "cell_type": "markdown",
   "id": "518006df-d858-4356-926d-47db5858a8d8",
   "metadata": {},
   "source": [
    "First, a sample of single neutral pions:"
   ]
  },
  {
   "cell_type": "code",
   "execution_count": 5,
   "id": "524b9a4e-ef88-46ed-ba1d-0158621b398d",
   "metadata": {},
   "outputs": [],
   "source": [
    "file_path = '/clusterfs/ml4hep/mfong/ML4Pions/MLTreeData/user.angerami.mc16_13TeV.900246.PG_singlepi0_logE0p2to2000.e8312_e7400_s3170_r12383.v01-45-gaa27bcb_OutputStream/user.angerami.24559740.OutputStream._000011.root'\n",
    "f_pi0 = uproot.open(file_path)"
   ]
  },
  {
   "cell_type": "code",
   "execution_count": 6,
   "id": "777f5407-4682-45d1-aa52-5574b8a72692",
   "metadata": {},
   "outputs": [],
   "source": [
    "### Primary DataFrame\n",
    "df = f_pi0['EventTree'].arrays([\"cluster_cell_E\", \"cluster_cell_ID\", \"cluster_E\", \"cluster_Eta\", \"cluster_Phi\"], library=\"pd\")\n",
    "df.reset_index(inplace=True) # flatten MultiIndexing"
   ]
  },
  {
   "cell_type": "code",
   "execution_count": 7,
   "id": "02260826-038a-48ec-a51d-ef1e3375ec82",
   "metadata": {},
   "outputs": [],
   "source": [
    "### Cell geometry DataFrame\n",
    "df_geo = f_pi0['CellGeo'].arrays(library=\"pd\")\n",
    "df_geo = df_geo.reset_index() # remove redundant multi-indexing\n",
    "df_geo.drop(columns = [\"entry\", \"subentry\"], inplace=True)\n",
    "\n",
    "### Add x,y,z coordinates\n",
    "df_geo[\"cell_geo_x\"] = df_geo[\"cell_geo_rPerp\"] * np.cos(df_geo[\"cell_geo_phi\"])\n",
    "df_geo[\"cell_geo_y\"] = df_geo[\"cell_geo_rPerp\"] * np.sin(df_geo[\"cell_geo_phi\"])\n",
    "cell_geo_theta = 2*np.arctan(np.exp(-df_geo[\"cell_geo_eta\"]))\n",
    "df_geo[\"cell_geo_z\"] = df_geo[\"cell_geo_rPerp\"] / np.tan(cell_geo_theta)"
   ]
  },
  {
   "cell_type": "code",
   "execution_count": 16,
   "id": "7ff78c49-4a5e-4ca5-873c-42fa818fdde1",
   "metadata": {},
   "outputs": [],
   "source": [
    "def make_graph(event: pd.Series, geo_df: pd.DataFrame, is_charged=False):\n",
    "    \"\"\"\n",
    "    Creates a graph representation of an event\n",
    "    \n",
    "    inputs\n",
    "    event (pd.Series) one event/row from EventTree\n",
    "    geo_df (pd.DataFrame) the CellGeo DataFrame mapping cell_geo_ID to information about the cell\n",
    "    is_charged (bool) True for charged pion, False for uncharged pion\n",
    "    \n",
    "    returns\n",
    "    A pair of graph representations of the event for the GNN (train_graph, target_graph)\n",
    "    returns (None, None) if no cell energies detected\n",
    "    \"\"\"\n",
    "    \n",
    "    ### No cell energies present\n",
    "    if len(event[\"cluster_cell_E\"]) == 0:\n",
    "        return None, None\n",
    "    \n",
    "    ### Get cell geometry information for this particular event\n",
    "    temp_df = geo_df[geo_df[\"cell_geo_ID\"].isin([item for sublist in event[\"cluster_cell_ID\"] for item in sublist])]\n",
    "    temp_df = temp_df.set_index(\"cell_geo_ID\")\n",
    "    ### Assign cell energies\n",
    "    for cell_id, cell_e in zip(\n",
    "        [item for sublist in event[\"cluster_cell_ID\"] for item in sublist],\n",
    "        [item for sublist in event[\"cluster_cell_E\"] for item in sublist]\n",
    "    ):\n",
    "        temp_df.loc[int(cell_id), \"cell_E\"] = cell_e\n",
    "    \n",
    "    ### Define node features\n",
    "    n_nodes = temp_df.shape[0]\n",
    "    node_features = [\"cell_E\", \"cell_geo_eta\",\n",
    "                     \"cell_geo_phi\", \"cell_geo_rPerp\",\n",
    "                     \"cell_geo_deta\", \"cell_geo_dphi\",\n",
    "                     \"cell_geo_volume\"]\n",
    "    nodes = temp_df[node_features].to_numpy(dtype=np.float32).reshape(-1, len(node_features))\n",
    "    \n",
    "    ### Apply k-NN search to find cell neighbors\n",
    "    # NOTE FAIR also has a faster algo for KNN search. Might want to try it\n",
    "    k = 6\n",
    "    k = min(n_nodes, k)\n",
    "    \n",
    "    nbrs = NearestNeighbors(n_neighbors=k, algorithm='ball_tree').fit(temp_df[[\"cell_geo_x\", \"cell_geo_y\", \"cell_geo_z\"]])\n",
    "    distances, indices = nbrs.kneighbors(temp_df[[\"cell_geo_x\", \"cell_geo_y\", \"cell_geo_z\"]])\n",
    "    \n",
    "    senders = np.repeat([x[0] for x in indices], k-1)               # k-1 for no self edges\n",
    "    receivers = np.array([x[1:] for x in indices]).flatten()        # x[1:] for no self edges\n",
    "    edges = np.array([x[1:] for x in distances], dtype=np.float32).flatten().reshape(-1, 1)\n",
    "    n_edges = len(senders)\n",
    "        \n",
    "    global_features = [\"cluster_E\", \"cluster_Eta\", \"cluster_Phi\"]\n",
    "    global_values = np.asarray(event[global_features]).astype('float32')\n",
    "    \n",
    "    input_datadict = {\n",
    "        \"n_node\": n_nodes,\n",
    "        \"n_edge\": n_edges,\n",
    "        \"nodes\": nodes,\n",
    "        \"edges\": edges,\n",
    "        \"senders\": senders,\n",
    "        \"receivers\": receivers,\n",
    "        \"globals\": global_values            # np.array([n_nodes], dtype=np.float32)\n",
    "    }\n",
    "    \n",
    "    target_datadict = {\n",
    "        \"n_node\": n_nodes,\n",
    "        \"n_edge\": n_edges,\n",
    "        \"nodes\": nodes,\n",
    "        \"edges\": edges,\n",
    "        \"senders\": senders,\n",
    "        \"receivers\": receivers,\n",
    "        \"globals\": np.array([int(is_charged)], dtype=np.float32)\n",
    "    }\n",
    "    input_graph = utils_tf.data_dicts_to_graphs_tuple([input_datadict])\n",
    "    target_graph = utils_tf.data_dicts_to_graphs_tuple([target_datadict])\n",
    "    \n",
    "    return input_graph, target_graph"
   ]
  },
  {
   "cell_type": "code",
   "execution_count": 17,
   "id": "90270eff-9443-48f7-9522-ea060f453da2",
   "metadata": {},
   "outputs": [],
   "source": [
    "graph1, graph2 = make_graph(df.iloc[1], df_geo, is_charged=False)"
   ]
  },
  {
   "cell_type": "code",
   "execution_count": 18,
   "id": "abab162f-e66e-4c64-8501-745aa62e66bd",
   "metadata": {},
   "outputs": [
    {
     "name": "stdout",
     "output_type": "stream",
     "text": [
      "52.3 ms ± 246 µs per loop (mean ± std. dev. of 7 runs, 10 loops each)\n"
     ]
    }
   ],
   "source": [
    "%timeit make_graph(df.iloc[1], df_geo, is_charged=False)"
   ]
  },
  {
   "cell_type": "code",
   "execution_count": 22,
   "id": "460642d3-cd7f-4506-9a17-957c6323a9a0",
   "metadata": {},
   "outputs": [
    {
     "name": "stdout",
     "output_type": "stream",
     "text": [
      "3.15 s ± 2.08 ms per loop (mean ± std. dev. of 7 runs, 1 loop each)\n"
     ]
    }
   ],
   "source": [
    "%%timeit \n",
    "\n",
    "graph_list = []\n",
    "for i in range(100):\n",
    "    graph_list.append(make_graph(df.loc[i], df_geo, is_charged=False))"
   ]
  },
  {
   "cell_type": "code",
   "execution_count": null,
   "id": "6d7beac6-0a59-47cf-a526-9ea4df6fb78e",
   "metadata": {},
   "outputs": [],
   "source": [
    "# for row in tqdm(df.index, total=len(df), desc=\"Graph generation\"):\n",
    "#      df.at[row,\"lep_one_index\"] = index_one"
   ]
  },
  {
   "cell_type": "code",
   "execution_count": 36,
   "id": "07c3dabf-2396-4bbb-9257-d0036f0d85ac",
   "metadata": {},
   "outputs": [
    {
     "data": {
      "text/plain": [
       "TensorShape([254, 7])"
      ]
     },
     "execution_count": 36,
     "metadata": {},
     "output_type": "execute_result"
    }
   ],
   "source": [
    "graph1.nodes.shape"
   ]
  },
  {
   "cell_type": "code",
   "execution_count": 37,
   "id": "afa05aeb-ad1f-4c1f-9325-14f9dc2340b1",
   "metadata": {},
   "outputs": [
    {
     "data": {
      "text/plain": [
       "TensorShape([1270, 1])"
      ]
     },
     "execution_count": 37,
     "metadata": {},
     "output_type": "execute_result"
    }
   ],
   "source": [
    "graph1.edges.shape"
   ]
  },
  {
   "cell_type": "code",
   "execution_count": null,
   "id": "15e8eb56-3f8b-4f10-9b93-eac891ede98a",
   "metadata": {},
   "outputs": [],
   "source": []
  }
 ],
 "metadata": {
  "kernelspec": {
   "display_name": "ml4pions",
   "language": "python",
   "name": "ml4pions"
  },
  "language_info": {
   "codemirror_mode": {
    "name": "ipython",
    "version": 3
   },
   "file_extension": ".py",
   "mimetype": "text/x-python",
   "name": "python",
   "nbconvert_exporter": "python",
   "pygments_lexer": "ipython3",
   "version": "3.8.5"
  }
 },
 "nbformat": 4,
 "nbformat_minor": 5
}
